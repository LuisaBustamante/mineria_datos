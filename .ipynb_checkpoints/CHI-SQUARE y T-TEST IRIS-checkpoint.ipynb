{
 "cells": [
  {
   "cell_type": "code",
   "execution_count": 5,
   "metadata": {},
   "outputs": [
    {
     "name": "stdout",
     "output_type": "stream",
     "text": [
      "   sepal_length  sepal_width  petal_length  petal_width      species\n",
      "0           5.1          3.5           1.4          0.2  Iris-setosa\n",
      "1           4.9          3.0           1.4          0.2  Iris-setosa\n",
      "2           4.7          3.2           1.3          0.2  Iris-setosa\n",
      "3           4.6          3.1           1.5          0.2  Iris-setosa\n",
      "4           5.0          3.6           1.4          0.2  Iris-setosa\n"
     ]
    }
   ],
   "source": [
    "import pandas as pd\n",
    "\n",
    "# Load the Iris dataset from your CSV file\n",
    "df = pd.read_csv(\"IRIS.csv\")\n",
    "\n",
    "# Filter out rows where Species is \"virginica\"\n",
    "df = df[df['species'] != 'Iris-virginica']\n",
    "\n",
    "# Convert the 'Species' column to a categorical factor\n",
    "df['species'] = pd.Categorical(df['species'])\n",
    "\n",
    "# Display the first few rows of the DataFrame\n",
    "print(df.head())"
   ]
  },
  {
   "cell_type": "markdown",
   "metadata": {},
   "source": [
    "# Convierta las petal_width columnas en una variable categórica"
   ]
  },
  {
   "cell_type": "markdown",
   "metadata": {},
   "source": [
    "Hay varias formas de convertir una variable continua en una variable categórica. Antes de hacer eso, veamos algunas estadísticas descriptivas de esta variable.\n",
    "Hay un total de 100 observaciones.\n",
    "El rango de estas observaciones es de 0,1 a 1,8.\n",
    "A continuación se muestra el resumen"
   ]
  },
  {
   "cell_type": "code",
   "execution_count": 10,
   "metadata": {},
   "outputs": [
    {
     "name": "stdout",
     "output_type": "stream",
     "text": [
      "count    150.000000\n",
      "mean       1.198667\n",
      "std        0.763161\n",
      "min        0.100000\n",
      "25%        0.300000\n",
      "50%        1.300000\n",
      "75%        1.800000\n",
      "max        2.500000\n",
      "Name: petal_width, dtype: float64\n"
     ]
    }
   ],
   "source": [
    "# Summary of the 'Petal.Width' column\n",
    "petal_width_summary = df['petal_width'].describe()\n",
    "print(petal_width_summary)"
   ]
  },
  {
   "cell_type": "code",
   "execution_count": 12,
   "metadata": {},
   "outputs": [
    {
     "name": "stdout",
     "output_type": "stream",
     "text": [
      "   sepal_length  sepal_width  petal_length  petal_width      species  \\\n",
      "0           5.1          3.5           1.4          0.2  Iris-setosa   \n",
      "1           4.9          3.0           1.4          0.2  Iris-setosa   \n",
      "2           4.7          3.2           1.3          0.2  Iris-setosa   \n",
      "3           4.6          3.1           1.5          0.2  Iris-setosa   \n",
      "4           5.0          3.6           1.4          0.2  Iris-setosa   \n",
      "\n",
      "  Petal.Width.Cat  \n",
      "0           Below  \n",
      "1           Below  \n",
      "2           Below  \n",
      "3           Below  \n",
      "4           Below  \n"
     ]
    }
   ],
   "source": [
    "import numpy as np\n",
    "# Create categorical bins for Petal.Width\n",
    "petal_width_bins = np.quantile(df['petal_width'], q=np.arange(0, 1.1, 0.5))\n",
    "petal_width_labels = [\"Below\", \"Above\"]\n",
    "df['Petal.Width.Cat'] = pd.cut(df['petal_width'], bins=petal_width_bins, labels=petal_width_labels, include_lowest=True)\n",
    "\n",
    "# Display the first few rows of the modified DataFrame\n",
    "print(df.head())"
   ]
  },
  {
   "cell_type": "markdown",
   "metadata": {},
   "source": [
    "# Soltar petal_width columna"
   ]
  },
  {
   "cell_type": "code",
   "execution_count": 14,
   "metadata": {},
   "outputs": [
    {
     "name": "stdout",
     "output_type": "stream",
     "text": [
      "   sepal_length  sepal_width  petal_length      species Petal.Width.Cat\n",
      "0           5.1          3.5           1.4  Iris-setosa           Below\n",
      "1           4.9          3.0           1.4  Iris-setosa           Below\n",
      "2           4.7          3.2           1.3  Iris-setosa           Below\n",
      "3           4.6          3.1           1.5  Iris-setosa           Below\n",
      "4           5.0          3.6           1.4  Iris-setosa           Below\n"
     ]
    }
   ],
   "source": [
    "# Drop the 'Petal.Width' column\n",
    "df = df.drop(columns=['petal_width'])\n",
    "\n",
    "# Display the first few rows of the modified DataFrame\n",
    "print(df.head())"
   ]
  },
  {
   "cell_type": "markdown",
   "metadata": {},
   "source": [
    "# Species contra Petal.Width.Cat"
   ]
  },
  {
   "cell_type": "markdown",
   "metadata": {},
   "source": [
    "Veamos si hay alguna interacción entre Speciesy Petal.Width.Cat. Dado que estas dos son variables categóricas, utilizaremos una prueba de chi-cuadrado . El punto de partida es echar un vistazo a la tabla de contingencia."
   ]
  },
  {
   "cell_type": "code",
   "execution_count": 16,
   "metadata": {},
   "outputs": [
    {
     "name": "stdout",
     "output_type": "stream",
     "text": [
      "species          Iris-setosa  Iris-versicolor  Iris-virginica\n",
      "Petal.Width.Cat                                              \n",
      "Below                     50               28               0\n",
      "Above                      0               22              50\n"
     ]
    }
   ],
   "source": [
    "# Create a contingency table\n",
    "contingency_table = pd.crosstab(df['Petal.Width.Cat'], df['species'])\n",
    "\n",
    "# Display the contingency table\n",
    "print(contingency_table)"
   ]
  },
  {
   "cell_type": "markdown",
   "metadata": {},
   "source": [
    "Para realizar la chi-squareprueba asumiremos la hipótesis nula de la siguiente manera:\n",
    "\n",
    "H0 : Petal.Width.CatNo tiene ningún efecto sobre elSpecies\n",
    "\n",
    "En consecuencia, las hipótesis alternativas se definirán de la siguiente manera:\n",
    "\n",
    "Ha : Petal.Width.CatTiene algún efecto en elSpecies"
   ]
  },
  {
   "cell_type": "markdown",
   "metadata": {},
   "source": [
    "Realizaremos la prueba usando chisq.test"
   ]
  },
  {
   "cell_type": "code",
   "execution_count": 18,
   "metadata": {},
   "outputs": [
    {
     "name": "stdout",
     "output_type": "stream",
     "text": [
      "Chi-squared: 100.64102564102565\n",
      "P-value: 1.3998417931687032e-22\n",
      "Degrees of freedom: 2\n",
      "Expected frequencies: [[26. 26. 26.]\n",
      " [24. 24. 24.]]\n"
     ]
    }
   ],
   "source": [
    "from scipy.stats import chi2_contingency\n",
    "\n",
    "# Perform the chi-squared test\n",
    "chi2, p, dof, expected = chi2_contingency(contingency_table)\n",
    "\n",
    "# Display the results\n",
    "print(\"Chi-squared:\", chi2)\n",
    "print(\"P-value:\", p)\n",
    "print(\"Degrees of freedom:\", dof)\n",
    "print(\"Expected frequencies:\", expected)"
   ]
  },
  {
   "cell_type": "markdown",
   "metadata": {},
   "source": [
    "Como podemos ver en los resultados anteriores, es p-value1,125856510^{-22}, que es bastante menor que el valor umbral de 5%. Esto nos permite rechazar con seguridad la hipótesis nula y aceptar la hipótesis alternativa. En otras palabras, Petal.Width.Cattiene un impacto Speciesque nos permite concluir que Petal.Width.Cates un buen predictor de Species."
   ]
  },
  {
   "cell_type": "markdown",
   "metadata": {},
   "source": [
    "# Species contra sepal_length"
   ]
  },
  {
   "cell_type": "markdown",
   "metadata": {},
   "source": [
    "Ahora, exploraremos el replatio entre Speciesy Sepal.Length. Una es una variable categórica y la otra es una variable continua. Para tener una idea rápida de si uno afecta al otro, podemos mirar el diagrama de caja."
   ]
  },
  {
   "cell_type": "code",
   "execution_count": 21,
   "metadata": {},
   "outputs": [
    {
     "data": {
      "image/png": "[encoded data removed]",
      "text/plain": [
       "<Figure size 576x432 with 1 Axes>"
      ]
     },
     "metadata": {
      "needs_background": "light"
     },
     "output_type": "display_data"
    }
   ],
   "source": [
    "import pandas as pd\n",
    "import seaborn as sns\n",
    "import matplotlib.pyplot as plt\n",
    "\n",
    "# Create the boxplot\n",
    "plt.figure(figsize=(8, 6))\n",
    "sns.boxplot(x='species', y='sepal_length', data=df)\n",
    "plt.title(\"Species Vs Sepal.Length\")\n",
    "plt.xlabel(\"Species\")\n",
    "plt.ylabel(\"Sepal.Length\")\n",
    "plt.tight_layout()\n",
    "plt.show()"
   ]
  },
  {
   "cell_type": "markdown",
   "metadata": {},
   "source": [
    "Como los diagramas de caja están claramente separados sin superposición, podemos inferir que Sepal.Length pueden estimar de manera justa el Species. Corroboremos esto con un simplet.test\n",
    "\n",
    "Para la prueba a continuación se presentan las hipótesis:\n",
    "\n",
    "Hipótesis nula H0 : Sepal.Length no afecta a Species. Es decir que la diferencia entre los Sepal.Length valores observados para varios Species no son estadísticamente diferentes\n",
    "\n",
    "Hipótesis alternativa Ha : Sepal.Length tiene algún efecto sobre Species. Es decir, la diferencia entre los Sepal.Length valores observados para varios Species son de hecho diferentes entre sí."
   ]
  },
  {
   "cell_type": "code",
   "execution_count": 30,
   "metadata": {},
   "outputs": [
    {
     "name": "stdout",
     "output_type": "stream",
     "text": [
      "T-statistic: -10.52098626754911\n",
      "P-value: 3.746742613983842e-17\n"
     ]
    }
   ],
   "source": [
    "import pandas as pd\n",
    "from scipy.stats import ttest_ind\n",
    "\n",
    "# Load the Iris dataset from your CSV file\n",
    "df = pd.read_csv(\"IRIS.csv\")\n",
    "\n",
    "# Extract Sepal.Length for \"setosa\" and \"versicolor\"\n",
    "x = df[df['species'] == 'Iris-setosa']['sepal_length']\n",
    "y = df[df['species'] == 'Iris-versicolor']['sepal_length']\n",
    "\n",
    "# Check for missing data\n",
    "if x.isnull().any() or y.isnull().any():\n",
    "    print(\"Missing data found. Please handle missing values.\")\n",
    "else:\n",
    "    # Perform the t-test\n",
    "    t_statistic, p_value = ttest_ind(x, y, equal_var=False)\n",
    "\n",
    "    # Display the results\n",
    "    print(\"T-statistic:\", t_statistic)\n",
    "    print(\"P-value:\", p_value)\n"
   ]
  },
  {
   "cell_type": "markdown",
   "metadata": {},
   "source": [
    "Como podemos observar en los resultados anteriores, p=value3.746742610^{-17} es significativamente menor que nuestro umbral del 5%. Por tanto, podemos rechazar la hipótesis nula y aceptar la alternativa.\n",
    "\n",
    "Según la hipótesis alternativa, Sepal.Length los valores de varios Species son estadísticamente diferentes entre sí, es decir, los valores están claramente separados entre diferentes clases de Species. Por tanto Sepal.Length puede ser un buen predictor."
   ]
  },
  {
   "cell_type": "code",
   "execution_count": null,
   "metadata": {},
   "outputs": [],
   "source": []
  }
 ],
 "metadata": {
  "kernelspec": {
   "display_name": "Python 3",
   "language": "python",
   "name": "python3"
  },
  "language_info": {
   "codemirror_mode": {
    "name": "ipython",
    "version": 3
   },
   "file_extension": ".py",
   "mimetype": "text/x-python",
   "name": "python",
   "nbconvert_exporter": "python",
   "pygments_lexer": "ipython3",
   "version": "3.8.3"
  }
 },
 "nbformat": 4,
 "nbformat_minor": 4
}
