{
 "cells": [
  {
   "cell_type": "markdown",
   "id": "c9eb5e82",
   "metadata": {},
   "source": [
    "<h2>Indice</h2>\n",
    "\n",
    "<div class=\"alert alert-block alert-info\" style=\"margin-top: 20px\">\n",
    "<ol>\n",
    "    <li><a href=\"https://#import_data\">Importando los datos</a></li>\n",
    "    <li><a href=\"https://#pattern_visualization\">Análisis de patrones de características individuales mediante visualización</a></li>\n",
    "    <li><a href=\"https://#discriptive_statistics\">Analisis Estadistico Descriptivo</a></li>\n",
    "    <li><a href=\"https://#basic_grouping\">Conceptos Basicos de Agrupamiento</a></li>\n",
    "    <li><a href=\"https://#correlation_causation\">Correlación y Causalidad</a></li>\n",
    "    <li><a href=\"https://#anova\">ANOVA</a></li>\n",
    "</ol>\n",
    "\n",
    "</div>\n",
    "\n",
    "<hr>\n"
   ]
  },
  {
   "cell_type": "code",
   "execution_count": 1,
   "id": "259b77a6",
   "metadata": {},
   "outputs": [],
   "source": [
    "# Importacion de librerias\n",
    "import pandas as pd\n",
    "import matplotlib\n",
    "import matplotlib.pyplot as plt\n",
    "import numpy as np\n",
    "%matplotlib inline \n",
    "\n",
    "from sklearn import metrics\n",
    "from sklearn.cluster import KMeans\n",
    "\n",
    "import warnings\n",
    "warnings.filterwarnings(\"ignore\")"
   ]
  },
  {
   "cell_type": "code",
   "execution_count": 2,
   "id": "d56c7c46",
   "metadata": {},
   "outputs": [],
   "source": [
    "def purity_score(y_true, y_pred):\n",
    "    # compute contingency matrix (also called confusion matrix)\n",
    "    contingency_matrix = metrics.cluster.contingency_matrix(y_true, y_pred)\n",
    "    # return purity\n",
    "    return np.sum(np.amax(contingency_matrix, axis=0)) / np.sum(contingency_matrix)"
   ]
  },
  {
   "cell_type": "code",
   "execution_count": 3,
   "id": "e0cec1ba",
   "metadata": {},
   "outputs": [],
   "source": [
    "def build_model(clustering_model, data, labels):\n",
    "    \n",
    "    model = clustering_model(data)\n",
    "\n",
    "    print('homo\\tcompl\\tv-meas\\tARI\\tAMI\\tsilhouette')\n",
    "    print(50 * '-')\n",
    "    \n",
    "    print('%.3f\\t%.3f\\t%.3f\\t%.3f\\t%.3f\\t%.3f'\n",
    "          %(metrics.homogeneity_score(labels, model.labels_),\n",
    "            metrics.completeness_score(labels, model.labels_),\n",
    "            metrics.v_measure_score(labels, model.labels_),\n",
    "            metrics.adjusted_rand_score(labels, model.labels_),\n",
    "            metrics.adjusted_mutual_info_score(labels,  model.labels_),\n",
    "            metrics.silhouette_score(data, model.labels_)))"
   ]
  },
  {
   "cell_type": "code",
   "execution_count": 4,
   "id": "e75ea3c6",
   "metadata": {},
   "outputs": [],
   "source": [
    "# Carga del conjunto de datos\n",
    "\n",
    "fruits  = pd.read_table('fruit_data_with_colors_dos.txt')\n",
    "#fruits  = pd.read_csv('fruit_data_with_colors_dos.csv')\n",
    "#X_fruits = fruits[['mass', 'width', 'height', 'color_score']]\n",
    "#y_fruits = fruits[['fruit_label']]"
   ]
  },
  {
   "cell_type": "code",
   "execution_count": 5,
   "id": "d4f294fe",
   "metadata": {},
   "outputs": [
    {
     "data": {
      "text/html": [
       "<div>\n",
       "<style scoped>\n",
       "    .dataframe tbody tr th:only-of-type {\n",
       "        vertical-align: middle;\n",
       "    }\n",
       "\n",
       "    .dataframe tbody tr th {\n",
       "        vertical-align: top;\n",
       "    }\n",
       "\n",
       "    .dataframe thead th {\n",
       "        text-align: right;\n",
       "    }\n",
       "</style>\n",
       "<table border=\"1\" class=\"dataframe\">\n",
       "  <thead>\n",
       "    <tr style=\"text-align: right;\">\n",
       "      <th></th>\n",
       "      <th>fruit_label</th>\n",
       "      <th>fruit_name</th>\n",
       "      <th>fruit_subtype</th>\n",
       "      <th>mass</th>\n",
       "      <th>width</th>\n",
       "      <th>height</th>\n",
       "      <th>color_score</th>\n",
       "    </tr>\n",
       "  </thead>\n",
       "  <tbody>\n",
       "    <tr>\n",
       "      <th>0</th>\n",
       "      <td>1</td>\n",
       "      <td>apple</td>\n",
       "      <td>granny_smith</td>\n",
       "      <td>192</td>\n",
       "      <td>8.4</td>\n",
       "      <td>7.3</td>\n",
       "      <td>0.55</td>\n",
       "    </tr>\n",
       "    <tr>\n",
       "      <th>1</th>\n",
       "      <td>1</td>\n",
       "      <td>apple</td>\n",
       "      <td>granny_smith</td>\n",
       "      <td>180</td>\n",
       "      <td>8.0</td>\n",
       "      <td>6.8</td>\n",
       "      <td>0.59</td>\n",
       "    </tr>\n",
       "    <tr>\n",
       "      <th>2</th>\n",
       "      <td>1</td>\n",
       "      <td>apple</td>\n",
       "      <td>granny_smith</td>\n",
       "      <td>176</td>\n",
       "      <td>7.4</td>\n",
       "      <td>7.2</td>\n",
       "      <td>0.60</td>\n",
       "    </tr>\n",
       "    <tr>\n",
       "      <th>3</th>\n",
       "      <td>2</td>\n",
       "      <td>mandarin</td>\n",
       "      <td>mandarin</td>\n",
       "      <td>86</td>\n",
       "      <td>6.2</td>\n",
       "      <td>4.7</td>\n",
       "      <td>0.80</td>\n",
       "    </tr>\n",
       "    <tr>\n",
       "      <th>4</th>\n",
       "      <td>2</td>\n",
       "      <td>mandarin</td>\n",
       "      <td>mandarin</td>\n",
       "      <td>86</td>\n",
       "      <td>6.2</td>\n",
       "      <td>4.7</td>\n",
       "      <td>0.80</td>\n",
       "    </tr>\n",
       "  </tbody>\n",
       "</table>\n",
       "</div>"
      ],
      "text/plain": [
       "   fruit_label fruit_name fruit_subtype  mass  width  height  color_score\n",
       "0            1      apple  granny_smith   192    8.4     7.3         0.55\n",
       "1            1      apple  granny_smith   180    8.0     6.8         0.59\n",
       "2            1      apple  granny_smith   176    7.4     7.2         0.60\n",
       "3            2   mandarin      mandarin    86    6.2     4.7         0.80\n",
       "4            2   mandarin      mandarin    86    6.2     4.7         0.80"
      ]
     },
     "execution_count": 5,
     "metadata": {},
     "output_type": "execute_result"
    }
   ],
   "source": [
    "fruits.head(5)"
   ]
  },
  {
   "cell_type": "code",
   "execution_count": 6,
   "id": "3dd1fa36",
   "metadata": {},
   "outputs": [
    {
     "data": {
      "text/plain": [
       "Index(['fruit_label', 'fruit_name', 'fruit_subtype', 'mass', 'width', 'height',\n",
       "       'color_score'],\n",
       "      dtype='object')"
      ]
     },
     "execution_count": 6,
     "metadata": {},
     "output_type": "execute_result"
    }
   ],
   "source": [
    "fruits.columns"
   ]
  },
  {
   "cell_type": "code",
   "execution_count": 7,
   "id": "cf07bcd5",
   "metadata": {},
   "outputs": [
    {
     "name": "stdout",
     "output_type": "stream",
     "text": [
      "    fruit_label fruit_name   fruit_subtype  mass  width  height  color_score\n",
      "0             1      apple    granny_smith   192    8.4     7.3         0.55\n",
      "3             2   mandarin        mandarin    86    6.2     4.7         0.80\n",
      "33            3     orange   spanish_jumbo   342    9.0     9.4         0.75\n",
      "52            4      lemon  spanish_belsan   194    7.2    10.3         0.70\n"
     ]
    }
   ],
   "source": [
    "#visualizar solo las filas únicas de estas dos columnas\n",
    "df_unique = fruits.drop_duplicates(subset=[\"fruit_label\", \"fruit_name\"])\n",
    "print(df_unique)"
   ]
  },
  {
   "cell_type": "code",
   "execution_count": 8,
   "id": "55738b0d",
   "metadata": {},
   "outputs": [
    {
     "data": {
      "text/html": [
       "<div>\n",
       "<style scoped>\n",
       "    .dataframe tbody tr th:only-of-type {\n",
       "        vertical-align: middle;\n",
       "    }\n",
       "\n",
       "    .dataframe tbody tr th {\n",
       "        vertical-align: top;\n",
       "    }\n",
       "\n",
       "    .dataframe thead th {\n",
       "        text-align: right;\n",
       "    }\n",
       "</style>\n",
       "<table border=\"1\" class=\"dataframe\">\n",
       "  <thead>\n",
       "    <tr style=\"text-align: right;\">\n",
       "      <th></th>\n",
       "      <th>fruit_label</th>\n",
       "      <th>fruit_name</th>\n",
       "      <th>fruit_subtype</th>\n",
       "      <th>mass</th>\n",
       "      <th>width</th>\n",
       "      <th>height</th>\n",
       "      <th>color_score</th>\n",
       "    </tr>\n",
       "  </thead>\n",
       "  <tbody>\n",
       "    <tr>\n",
       "      <th>0</th>\n",
       "      <td>1</td>\n",
       "      <td>apple</td>\n",
       "      <td>granny_smith</td>\n",
       "      <td>192</td>\n",
       "      <td>8.4</td>\n",
       "      <td>7.3</td>\n",
       "      <td>0.55</td>\n",
       "    </tr>\n",
       "    <tr>\n",
       "      <th>1</th>\n",
       "      <td>1</td>\n",
       "      <td>apple</td>\n",
       "      <td>granny_smith</td>\n",
       "      <td>180</td>\n",
       "      <td>8.0</td>\n",
       "      <td>6.8</td>\n",
       "      <td>0.59</td>\n",
       "    </tr>\n",
       "    <tr>\n",
       "      <th>2</th>\n",
       "      <td>1</td>\n",
       "      <td>apple</td>\n",
       "      <td>granny_smith</td>\n",
       "      <td>176</td>\n",
       "      <td>7.4</td>\n",
       "      <td>7.2</td>\n",
       "      <td>0.60</td>\n",
       "    </tr>\n",
       "    <tr>\n",
       "      <th>3</th>\n",
       "      <td>2</td>\n",
       "      <td>mandarin</td>\n",
       "      <td>mandarin</td>\n",
       "      <td>86</td>\n",
       "      <td>6.2</td>\n",
       "      <td>4.7</td>\n",
       "      <td>0.80</td>\n",
       "    </tr>\n",
       "    <tr>\n",
       "      <th>4</th>\n",
       "      <td>2</td>\n",
       "      <td>mandarin</td>\n",
       "      <td>mandarin</td>\n",
       "      <td>86</td>\n",
       "      <td>6.2</td>\n",
       "      <td>4.7</td>\n",
       "      <td>0.80</td>\n",
       "    </tr>\n",
       "    <tr>\n",
       "      <th>5</th>\n",
       "      <td>2</td>\n",
       "      <td>mandarin</td>\n",
       "      <td>mandarin</td>\n",
       "      <td>86</td>\n",
       "      <td>6.2</td>\n",
       "      <td>4.7</td>\n",
       "      <td>0.80</td>\n",
       "    </tr>\n",
       "    <tr>\n",
       "      <th>6</th>\n",
       "      <td>2</td>\n",
       "      <td>mandarin</td>\n",
       "      <td>mandarin</td>\n",
       "      <td>84</td>\n",
       "      <td>6.0</td>\n",
       "      <td>4.6</td>\n",
       "      <td>0.79</td>\n",
       "    </tr>\n",
       "    <tr>\n",
       "      <th>7</th>\n",
       "      <td>2</td>\n",
       "      <td>mandarin</td>\n",
       "      <td>mandarin</td>\n",
       "      <td>84</td>\n",
       "      <td>6.0</td>\n",
       "      <td>4.6</td>\n",
       "      <td>0.79</td>\n",
       "    </tr>\n",
       "    <tr>\n",
       "      <th>8</th>\n",
       "      <td>2</td>\n",
       "      <td>mandarin</td>\n",
       "      <td>mandarin</td>\n",
       "      <td>84</td>\n",
       "      <td>6.0</td>\n",
       "      <td>4.6</td>\n",
       "      <td>0.79</td>\n",
       "    </tr>\n",
       "    <tr>\n",
       "      <th>9</th>\n",
       "      <td>2</td>\n",
       "      <td>mandarin</td>\n",
       "      <td>mandarin</td>\n",
       "      <td>80</td>\n",
       "      <td>5.8</td>\n",
       "      <td>4.3</td>\n",
       "      <td>0.77</td>\n",
       "    </tr>\n",
       "  </tbody>\n",
       "</table>\n",
       "</div>"
      ],
      "text/plain": [
       "   fruit_label fruit_name fruit_subtype  mass  width  height  color_score\n",
       "0            1      apple  granny_smith   192    8.4     7.3         0.55\n",
       "1            1      apple  granny_smith   180    8.0     6.8         0.59\n",
       "2            1      apple  granny_smith   176    7.4     7.2         0.60\n",
       "3            2   mandarin      mandarin    86    6.2     4.7         0.80\n",
       "4            2   mandarin      mandarin    86    6.2     4.7         0.80\n",
       "5            2   mandarin      mandarin    86    6.2     4.7         0.80\n",
       "6            2   mandarin      mandarin    84    6.0     4.6         0.79\n",
       "7            2   mandarin      mandarin    84    6.0     4.6         0.79\n",
       "8            2   mandarin      mandarin    84    6.0     4.6         0.79\n",
       "9            2   mandarin      mandarin    80    5.8     4.3         0.77"
      ]
     },
     "execution_count": 8,
     "metadata": {},
     "output_type": "execute_result"
    }
   ],
   "source": [
    "fruits.head(10)"
   ]
  },
  {
   "cell_type": "code",
   "execution_count": 9,
   "id": "746f8b82",
   "metadata": {},
   "outputs": [],
   "source": [
    "#X_fruits.head(10)"
   ]
  },
  {
   "cell_type": "code",
   "execution_count": 10,
   "id": "80e7501b",
   "metadata": {},
   "outputs": [],
   "source": [
    "#y_fruits"
   ]
  },
  {
   "cell_type": "code",
   "execution_count": 11,
   "id": "1ad8dd67",
   "metadata": {},
   "outputs": [
    {
     "data": {
      "text/plain": [
       "(340, 7)"
      ]
     },
     "execution_count": 11,
     "metadata": {},
     "output_type": "execute_result"
    }
   ],
   "source": [
    "fruits.shape"
   ]
  },
  {
   "cell_type": "markdown",
   "id": "45e9b738",
   "metadata": {},
   "source": [
    "##  Mezclar la base de datos"
   ]
  },
  {
   "cell_type": "code",
   "execution_count": 12,
   "id": "39b9f5d6",
   "metadata": {},
   "outputs": [],
   "source": [
    "#fruits = fruits.sample(frac=1).reset_index(drop=True)\n",
    "#fruits.head(10)"
   ]
  },
  {
   "cell_type": "code",
   "execution_count": 13,
   "id": "a1d343f6",
   "metadata": {},
   "outputs": [
    {
     "data": {
      "text/plain": [
       "orange      95\n",
       "apple       95\n",
       "lemon       80\n",
       "mandarin    70\n",
       "Name: fruit_name, dtype: int64"
      ]
     },
     "execution_count": 13,
     "metadata": {},
     "output_type": "execute_result"
    }
   ],
   "source": [
    "fruits['fruit_name'].value_counts()"
   ]
  },
  {
   "cell_type": "markdown",
   "id": "aabe3fae",
   "metadata": {},
   "source": [
    "<h2 id=\"pattern_visualization\">2. Análisis de patrones de características individuales mediante visualización</h2>\n",
    "- Para instalar seaborn usamos  pip que es el administrador de paquetes de python."
   ]
  },
  {
   "cell_type": "code",
   "execution_count": 14,
   "id": "624a00cf",
   "metadata": {},
   "outputs": [
    {
     "name": "stdout",
     "output_type": "stream",
     "text": [
      "Requirement already satisfied: seaborn in c:\\users\\x1920\\anaconda3\\lib\\site-packages (0.10.1)\n",
      "Requirement already satisfied: numpy>=1.13.3 in c:\\users\\x1920\\anaconda3\\lib\\site-packages (from seaborn) (1.18.5)\n",
      "Requirement already satisfied: pandas>=0.22.0 in c:\\users\\x1920\\anaconda3\\lib\\site-packages (from seaborn) (1.0.5)\n",
      "Requirement already satisfied: matplotlib>=2.1.2 in c:\\users\\x1920\\anaconda3\\lib\\site-packages (from seaborn) (3.2.2)\n",
      "Requirement already satisfied: scipy>=1.0.1 in c:\\users\\x1920\\anaconda3\\lib\\site-packages (from seaborn) (1.5.0)\n",
      "Requirement already satisfied: pytz>=2017.2 in c:\\users\\x1920\\anaconda3\\lib\\site-packages (from pandas>=0.22.0->seaborn) (2020.1)\n",
      "Requirement already satisfied: python-dateutil>=2.6.1 in c:\\users\\x1920\\anaconda3\\lib\\site-packages (from pandas>=0.22.0->seaborn) (2.8.1)\n",
      "Requirement already satisfied: pyparsing!=2.0.4,!=2.1.2,!=2.1.6,>=2.0.1 in c:\\users\\x1920\\anaconda3\\lib\\site-packages (from matplotlib>=2.1.2->seaborn) (2.4.7)\n",
      "Requirement already satisfied: kiwisolver>=1.0.1 in c:\\users\\x1920\\anaconda3\\lib\\site-packages (from matplotlib>=2.1.2->seaborn) (1.2.0)\n",
      "Requirement already satisfied: cycler>=0.10 in c:\\users\\x1920\\anaconda3\\lib\\site-packages (from matplotlib>=2.1.2->seaborn) (0.10.0)\n",
      "Requirement already satisfied: six>=1.5 in c:\\users\\x1920\\anaconda3\\lib\\site-packages (from python-dateutil>=2.6.1->pandas>=0.22.0->seaborn) (1.15.0)\n"
     ]
    }
   ],
   "source": [
    "! pip install seaborn"
   ]
  },
  {
   "cell_type": "markdown",
   "id": "fe1e1802",
   "metadata": {},
   "source": [
    "## listar  de los tipos de datos para cada columna"
   ]
  },
  {
   "cell_type": "code",
   "execution_count": 15,
   "id": "c58ff721",
   "metadata": {},
   "outputs": [
    {
     "name": "stdout",
     "output_type": "stream",
     "text": [
      "<class 'pandas.core.frame.DataFrame'>\n",
      "RangeIndex: 340 entries, 0 to 339\n",
      "Data columns (total 7 columns):\n",
      " #   Column         Non-Null Count  Dtype  \n",
      "---  ------         --------------  -----  \n",
      " 0   fruit_label    340 non-null    int64  \n",
      " 1   fruit_name     340 non-null    object \n",
      " 2   fruit_subtype  340 non-null    object \n",
      " 3   mass           340 non-null    int64  \n",
      " 4   width          340 non-null    float64\n",
      " 5   height         340 non-null    float64\n",
      " 6   color_score    340 non-null    float64\n",
      "dtypes: float64(3), int64(2), object(2)\n",
      "memory usage: 16.0+ KB\n"
     ]
    }
   ],
   "source": [
    "fruits.info()\n",
    "#print(fruits.dtypes)"
   ]
  },
  {
   "cell_type": "code",
   "execution_count": 16,
   "id": "88217bc2",
   "metadata": {},
   "outputs": [
    {
     "data": {
      "text/plain": [
       "fruit_label      0\n",
       "fruit_name       0\n",
       "fruit_subtype    0\n",
       "mass             0\n",
       "width            0\n",
       "height           0\n",
       "color_score      0\n",
       "dtype: int64"
      ]
     },
     "execution_count": 16,
     "metadata": {},
     "output_type": "execute_result"
    }
   ],
   "source": [
    "fruits.isna().sum().sort_values()"
   ]
  },
  {
   "cell_type": "code",
   "execution_count": 17,
   "id": "dc8142fb",
   "metadata": {},
   "outputs": [
    {
     "data": {
      "text/plain": [
       "<matplotlib.axes._subplots.AxesSubplot at 0x9e59a00>"
      ]
     },
     "execution_count": 17,
     "metadata": {},
     "output_type": "execute_result"
    },
    {
     "data": {
      "image/png": "[encoded data removed]",
      "text/plain": [
       "<Figure size 432x288 with 1 Axes>"
      ]
     },
     "metadata": {
      "needs_background": "light"
     },
     "output_type": "display_data"
    }
   ],
   "source": [
    "# Identificamos los valores faltantantes visualmente\n",
    "import seaborn as sns\n",
    "sns.heatmap(fruits.isnull(), cbar=False)"
   ]
  },
  {
   "cell_type": "markdown",
   "id": "62411d9c",
   "metadata": {},
   "source": [
    "## calcular la correlación entre variables de tipo “int64” o “float64” utilizando el método “corr”:"
   ]
  },
  {
   "cell_type": "code",
   "execution_count": 18,
   "id": "d2bb07bf",
   "metadata": {},
   "outputs": [
    {
     "data": {
      "text/html": [
       "<div>\n",
       "<style scoped>\n",
       "    .dataframe tbody tr th:only-of-type {\n",
       "        vertical-align: middle;\n",
       "    }\n",
       "\n",
       "    .dataframe tbody tr th {\n",
       "        vertical-align: top;\n",
       "    }\n",
       "\n",
       "    .dataframe thead th {\n",
       "        text-align: right;\n",
       "    }\n",
       "</style>\n",
       "<table border=\"1\" class=\"dataframe\">\n",
       "  <thead>\n",
       "    <tr style=\"text-align: right;\">\n",
       "      <th></th>\n",
       "      <th>fruit_label</th>\n",
       "      <th>mass</th>\n",
       "      <th>width</th>\n",
       "      <th>height</th>\n",
       "      <th>color_score</th>\n",
       "    </tr>\n",
       "  </thead>\n",
       "  <tbody>\n",
       "    <tr>\n",
       "      <th>fruit_label</th>\n",
       "      <td>1.000000</td>\n",
       "      <td>0.106448</td>\n",
       "      <td>-0.184130</td>\n",
       "      <td>0.480975</td>\n",
       "      <td>-0.326251</td>\n",
       "    </tr>\n",
       "    <tr>\n",
       "      <th>mass</th>\n",
       "      <td>0.106448</td>\n",
       "      <td>1.000000</td>\n",
       "      <td>0.904057</td>\n",
       "      <td>0.718894</td>\n",
       "      <td>-0.140929</td>\n",
       "    </tr>\n",
       "    <tr>\n",
       "      <th>width</th>\n",
       "      <td>-0.184130</td>\n",
       "      <td>0.904057</td>\n",
       "      <td>1.000000</td>\n",
       "      <td>0.573896</td>\n",
       "      <td>-0.135044</td>\n",
       "    </tr>\n",
       "    <tr>\n",
       "      <th>height</th>\n",
       "      <td>0.480975</td>\n",
       "      <td>0.718894</td>\n",
       "      <td>0.573896</td>\n",
       "      <td>1.000000</td>\n",
       "      <td>-0.281394</td>\n",
       "    </tr>\n",
       "    <tr>\n",
       "      <th>color_score</th>\n",
       "      <td>-0.326251</td>\n",
       "      <td>-0.140929</td>\n",
       "      <td>-0.135044</td>\n",
       "      <td>-0.281394</td>\n",
       "      <td>1.000000</td>\n",
       "    </tr>\n",
       "  </tbody>\n",
       "</table>\n",
       "</div>"
      ],
      "text/plain": [
       "             fruit_label      mass     width    height  color_score\n",
       "fruit_label     1.000000  0.106448 -0.184130  0.480975    -0.326251\n",
       "mass            0.106448  1.000000  0.904057  0.718894    -0.140929\n",
       "width          -0.184130  0.904057  1.000000  0.573896    -0.135044\n",
       "height          0.480975  0.718894  0.573896  1.000000    -0.281394\n",
       "color_score    -0.326251 -0.140929 -0.135044 -0.281394     1.000000"
      ]
     },
     "execution_count": 18,
     "metadata": {},
     "output_type": "execute_result"
    }
   ],
   "source": [
    "fruits.corr()"
   ]
  },
  {
   "cell_type": "code",
   "execution_count": 19,
   "id": "9945cf61",
   "metadata": {},
   "outputs": [
    {
     "data": {
      "image/png": "[encoded data removed]",
      "text/plain": [
       "<Figure size 432x288 with 2 Axes>"
      ]
     },
     "metadata": {
      "needs_background": "light"
     },
     "output_type": "display_data"
    }
   ],
   "source": [
    "# ** Matriz de Correlación**\n",
    "import statsmodels.api as sm\n",
    "import scipy\n",
    "corr = fruits.set_index('fruit_label').corr()\n",
    "sm.graphics.plot_corr(corr, xnames=list(corr.columns))\n",
    "plt.show()"
   ]
  },
  {
   "cell_type": "code",
   "execution_count": 20,
   "id": "ad5ca163",
   "metadata": {},
   "outputs": [],
   "source": [
    "# Statistical data visualization\n",
    "#import matplotlib.pyplot as plt # For creating visualizations in Python\n",
    "#3import seaborn as sns # For creating statistical visualizations in Python\n",
    "#from pylab import rcParams # rcParams module from the PyLab library, which allows you to customize the properties of your visualizations\n",
    "#rcParams['figure.figsize'] = 14, 8 # Figures created by Pyplot to 14 inches by 8 inches"
   ]
  },
  {
   "cell_type": "code",
   "execution_count": 21,
   "id": "ddd9d648",
   "metadata": {},
   "outputs": [
    {
     "data": {
      "image/png": "[encoded data removed]",
      "text/plain": [
       "<Figure size 1440x1440 with 2 Axes>"
      ]
     },
     "metadata": {
      "needs_background": "light"
     },
     "output_type": "display_data"
    }
   ],
   "source": [
    "# Creating a correlation heatmap\n",
    "sns.heatmap(fruits.corr(),annot=True, cmap='Spectral', linewidths=0.1)\n",
    "fig=plt.gcf()\n",
    "fig.set_size_inches(20,20)\n",
    "plt.show()"
   ]
  },
  {
   "cell_type": "code",
   "execution_count": 22,
   "id": "e8e3ed66",
   "metadata": {},
   "outputs": [
    {
     "data": {
      "text/plain": [
       "array([[<matplotlib.axes._subplots.AxesSubplot object at 0x0B5BF7D8>,\n",
       "        <matplotlib.axes._subplots.AxesSubplot object at 0x0AE25DF0>],\n",
       "       [<matplotlib.axes._subplots.AxesSubplot object at 0x0B53CE68>,\n",
       "        <matplotlib.axes._subplots.AxesSubplot object at 0x0B512418>],\n",
       "       [<matplotlib.axes._subplots.AxesSubplot object at 0x0B621A30>,\n",
       "        <matplotlib.axes._subplots.AxesSubplot object at 0x0B642460>]],\n",
       "      dtype=object)"
      ]
     },
     "execution_count": 22,
     "metadata": {},
     "output_type": "execute_result"
    },
    {
     "data": {
      "image/png": "[encoded data removed]",
      "text/plain": [
       "<Figure size 432x288 with 6 Axes>"
      ]
     },
     "metadata": {
      "needs_background": "light"
     },
     "output_type": "display_data"
    }
   ],
   "source": [
    "#visualizar la distribución de  cada variable cuantitativa usando un histograma.\n",
    "fruits.hist()"
   ]
  },
  {
   "cell_type": "markdown",
   "id": "4d63d883",
   "metadata": {},
   "source": [
    "Histograma. Compuesto por barras verticales que representan el número o la frecuencia de observaciones en diferentes rangos de valores para esa variable. El eje x del histograma representa los valores de la variable, mientras que el eje y representa la frecuencia o la densidad de observaciones.\n",
    "\n",
    "Si la distribución de la variable sigue una forma de campana, entonces se dice que sigue una distribución normal o gaussiana. La distribución se verá como una forma simétrica con la mayoría de las observaciones cerca de la media y un número menor de observaciones en los extremos"
   ]
  },
  {
   "cell_type": "code",
   "execution_count": 23,
   "id": "6cb1c01d",
   "metadata": {
    "scrolled": true
   },
   "outputs": [
    {
     "data": {
      "text/plain": [
       "<seaborn.axisgrid.PairGrid at 0x9c8e118>"
      ]
     },
     "execution_count": 23,
     "metadata": {},
     "output_type": "execute_result"
    },
    {
     "data": {
      "image/png": "[encoded data removed]",
      "text/plain": [
       "<Figure size 900x900 with 30 Axes>"
      ]
     },
     "metadata": {
      "needs_background": "light"
     },
     "output_type": "display_data"
    }
   ],
   "source": [
    "# Visualizar la relación entre todas las variables utilizando una matriz de diagramas de dispersión\n",
    "sns.pairplot(fruits)"
   ]
  },
  {
   "cell_type": "markdown",
   "id": "914c14a1",
   "metadata": {},
   "source": [
    "## Variables numéricas continuas:"
   ]
  },
  {
   "cell_type": "markdown",
   "id": "f32163e2",
   "metadata": {},
   "source": [
    "## Relación lineal positiva\n",
    "- Diagrama de dispersión de “masa y el ancho\""
   ]
  },
  {
   "cell_type": "code",
   "execution_count": 24,
   "id": "590c3d89",
   "metadata": {},
   "outputs": [
    {
     "data": {
      "text/plain": [
       "<matplotlib.axes._subplots.AxesSubplot at 0xd40c1f0>"
      ]
     },
     "execution_count": 24,
     "metadata": {},
     "output_type": "execute_result"
    },
    {
     "data": {
      "image/png": "[encoded data removed]",
      "text/plain": [
       "<Figure size 432x288 with 1 Axes>"
      ]
     },
     "metadata": {
      "needs_background": "light"
     },
     "output_type": "display_data"
    }
   ],
   "source": [
    "# Visualizar la relación entre dos variables usando un diagrama de dispersión, sin regresión\n",
    "sns.scatterplot(x='mass', y='width', data=fruits)"
   ]
  },
  {
   "cell_type": "code",
   "execution_count": 25,
   "id": "6046aa94",
   "metadata": {},
   "outputs": [
    {
     "data": {
      "text/plain": [
       "(0.0, 376.3)"
      ]
     },
     "execution_count": 25,
     "metadata": {},
     "output_type": "execute_result"
    },
    {
     "data": {
      "image/png": "[encoded data removed]",
      "text/plain": [
       "<Figure size 432x288 with 1 Axes>"
      ]
     },
     "metadata": {
      "needs_background": "light"
     },
     "output_type": "display_data"
    }
   ],
   "source": [
    "# masa como posible variable de predicción del ancho de la fruta, con Liena una de Regresión\n",
    "sns.regplot(x=\"width\", y=\"mass\", data=fruits)\n",
    "plt.ylim(0,)"
   ]
  },
  {
   "cell_type": "code",
   "execution_count": 26,
   "id": "124c850d",
   "metadata": {},
   "outputs": [
    {
     "data": {
      "text/html": [
       "<div>\n",
       "<style scoped>\n",
       "    .dataframe tbody tr th:only-of-type {\n",
       "        vertical-align: middle;\n",
       "    }\n",
       "\n",
       "    .dataframe tbody tr th {\n",
       "        vertical-align: top;\n",
       "    }\n",
       "\n",
       "    .dataframe thead th {\n",
       "        text-align: right;\n",
       "    }\n",
       "</style>\n",
       "<table border=\"1\" class=\"dataframe\">\n",
       "  <thead>\n",
       "    <tr style=\"text-align: right;\">\n",
       "      <th></th>\n",
       "      <th>mass</th>\n",
       "      <th>width</th>\n",
       "    </tr>\n",
       "  </thead>\n",
       "  <tbody>\n",
       "    <tr>\n",
       "      <th>mass</th>\n",
       "      <td>1.000000</td>\n",
       "      <td>0.904057</td>\n",
       "    </tr>\n",
       "    <tr>\n",
       "      <th>width</th>\n",
       "      <td>0.904057</td>\n",
       "      <td>1.000000</td>\n",
       "    </tr>\n",
       "  </tbody>\n",
       "</table>\n",
       "</div>"
      ],
      "text/plain": [
       "           mass     width\n",
       "mass   1.000000  0.904057\n",
       "width  0.904057  1.000000"
      ]
     },
     "execution_count": 26,
     "metadata": {},
     "output_type": "execute_result"
    }
   ],
   "source": [
    "fruits[['mass', 'width']].corr()"
   ]
  },
  {
   "cell_type": "markdown",
   "id": "7035aad5",
   "metadata": {},
   "source": [
    "En la medida que aumenta la masa de la fruta, aumenta el ancho: indica una **correlación directa positiva** entre estas dos variables. masa como posible variable de predicción del ancho de la fruta ya que la línea de regresión es casi una línea diagonal perfecta."
   ]
  },
  {
   "cell_type": "markdown",
   "id": "68d63836",
   "metadata": {},
   "source": [
    "- Podemos examinar la correlación entre masa y el ancho de la fruta y ver que es aproximadamente 0.90"
   ]
  },
  {
   "cell_type": "markdown",
   "id": "6eae2e60",
   "metadata": {},
   "source": [
    "## Relación inversa/negativa"
   ]
  },
  {
   "cell_type": "markdown",
   "id": "f9841c4d",
   "metadata": {},
   "source": [
    "\"Alto de la fruta\" es una posible variable que pronostique el color"
   ]
  },
  {
   "cell_type": "code",
   "execution_count": 27,
   "id": "1143eaf7",
   "metadata": {},
   "outputs": [
    {
     "data": {
      "text/html": [
       "<div>\n",
       "<style scoped>\n",
       "    .dataframe tbody tr th:only-of-type {\n",
       "        vertical-align: middle;\n",
       "    }\n",
       "\n",
       "    .dataframe tbody tr th {\n",
       "        vertical-align: top;\n",
       "    }\n",
       "\n",
       "    .dataframe thead th {\n",
       "        text-align: right;\n",
       "    }\n",
       "</style>\n",
       "<table border=\"1\" class=\"dataframe\">\n",
       "  <thead>\n",
       "    <tr style=\"text-align: right;\">\n",
       "      <th></th>\n",
       "      <th>height</th>\n",
       "      <th>color_score</th>\n",
       "    </tr>\n",
       "  </thead>\n",
       "  <tbody>\n",
       "    <tr>\n",
       "      <th>height</th>\n",
       "      <td>1.000000</td>\n",
       "      <td>-0.281394</td>\n",
       "    </tr>\n",
       "    <tr>\n",
       "      <th>color_score</th>\n",
       "      <td>-0.281394</td>\n",
       "      <td>1.000000</td>\n",
       "    </tr>\n",
       "  </tbody>\n",
       "</table>\n",
       "</div>"
      ],
      "text/plain": [
       "               height  color_score\n",
       "height       1.000000    -0.281394\n",
       "color_score -0.281394     1.000000"
      ]
     },
     "execution_count": 27,
     "metadata": {},
     "output_type": "execute_result"
    }
   ],
   "source": [
    "fruits[['height', 'color_score']].corr()"
   ]
  },
  {
   "cell_type": "code",
   "execution_count": 28,
   "id": "da5acc99",
   "metadata": {},
   "outputs": [
    {
     "data": {
      "text/plain": [
       "(0.0, 0.9490000000000001)"
      ]
     },
     "execution_count": 28,
     "metadata": {},
     "output_type": "execute_result"
    },
    {
     "data": {
      "image/png": "[encoded data removed]",
      "text/plain": [
       "<Figure size 432x288 with 1 Axes>"
      ]
     },
     "metadata": {
      "needs_background": "light"
     },
     "output_type": "display_data"
    }
   ],
   "source": [
    "sns.regplot(x=\"height\", y=\"color_score\", data=fruits)\n",
    "plt.ylim(0,)"
   ]
  },
  {
   "cell_type": "markdown",
   "id": "8b39bc4c",
   "metadata": {},
   "source": [
    "En la medida que aumenta alto de la fruta, el color va disminuyendo: \n",
    "- Indica un relación inversa/negativa entre estas dos atributos. el alto podria en cierta medida podria predecir el color de la fruta.\n",
    "- la correlación entre 'height' y 'color_score' es aprox: imandamente -0.28"
   ]
  },
  {
   "cell_type": "markdown",
   "id": "cfa1cf32",
   "metadata": {},
   "source": [
    "## Relación Lineal Débil**"
   ]
  },
  {
   "cell_type": "code",
   "execution_count": 29,
   "id": "ad03b355",
   "metadata": {},
   "outputs": [
    {
     "data": {
      "text/html": [
       "<div>\n",
       "<style scoped>\n",
       "    .dataframe tbody tr th:only-of-type {\n",
       "        vertical-align: middle;\n",
       "    }\n",
       "\n",
       "    .dataframe tbody tr th {\n",
       "        vertical-align: top;\n",
       "    }\n",
       "\n",
       "    .dataframe thead th {\n",
       "        text-align: right;\n",
       "    }\n",
       "</style>\n",
       "<table border=\"1\" class=\"dataframe\">\n",
       "  <thead>\n",
       "    <tr style=\"text-align: right;\">\n",
       "      <th></th>\n",
       "      <th>width</th>\n",
       "      <th>fruit_label</th>\n",
       "    </tr>\n",
       "  </thead>\n",
       "  <tbody>\n",
       "    <tr>\n",
       "      <th>width</th>\n",
       "      <td>1.00000</td>\n",
       "      <td>-0.18413</td>\n",
       "    </tr>\n",
       "    <tr>\n",
       "      <th>fruit_label</th>\n",
       "      <td>-0.18413</td>\n",
       "      <td>1.00000</td>\n",
       "    </tr>\n",
       "  </tbody>\n",
       "</table>\n",
       "</div>"
      ],
      "text/plain": [
       "               width  fruit_label\n",
       "width        1.00000     -0.18413\n",
       "fruit_label -0.18413      1.00000"
      ]
     },
     "execution_count": 29,
     "metadata": {},
     "output_type": "execute_result"
    }
   ],
   "source": [
    "fruits[['width', 'fruit_label']].corr()"
   ]
  },
  {
   "cell_type": "code",
   "execution_count": 30,
   "id": "3a4a9c29",
   "metadata": {},
   "outputs": [
    {
     "data": {
      "text/plain": [
       "(0.0, 4.15)"
      ]
     },
     "execution_count": 30,
     "metadata": {},
     "output_type": "execute_result"
    },
    {
     "data": {
      "image/png": "[encoded data removed]",
      "text/plain": [
       "<Figure size 432x288 with 1 Axes>"
      ]
     },
     "metadata": {
      "needs_background": "light"
     },
     "output_type": "display_data"
    }
   ],
   "source": [
    "sns.regplot(x=\"mass\", y=\"fruit_label\", data=fruits)\n",
    "plt.ylim(0,)"
   ]
  },
  {
   "cell_type": "markdown",
   "id": "c7724569",
   "metadata": {},
   "source": [
    "La masa de la fruta no parecen ser un buen predictor del tipo de fruta, ya que la línea de regresión está cerca de la horizontal. Además, los puntos de datos están muy dispersos y lejos de la línea ajustada, lo que muestra mucha variabilidad. Por lo tanto, no es una variable confiable."
   ]
  },
  {
   "cell_type": "code",
   "execution_count": 31,
   "id": "7d86889e",
   "metadata": {},
   "outputs": [
    {
     "data": {
      "text/plain": [
       "Index(['fruit_label', 'fruit_name', 'fruit_subtype', 'mass', 'width', 'height',\n",
       "       'color_score'],\n",
       "      dtype='object')"
      ]
     },
     "execution_count": 31,
     "metadata": {},
     "output_type": "execute_result"
    }
   ],
   "source": [
    "fruits.columns"
   ]
  },
  {
   "cell_type": "markdown",
   "id": "91487a07",
   "metadata": {},
   "source": [
    "## Variables categóricas\n",
    "\n",
    "- Estas son variables que describen una ‘característica’ de una unidad de datos y se seleccionan de un pequeño grupo de categorías. Las variables categóricas pueden tener el tipo “objeto” o “int64”. Una buena forma de visualizar variables categóricas es mediante el uso de diagramas de caja."
   ]
  },
  {
   "cell_type": "code",
   "execution_count": 32,
   "id": "0c6f4bca",
   "metadata": {},
   "outputs": [
    {
     "data": {
      "text/plain": [
       "<matplotlib.axes._subplots.AxesSubplot at 0xe54e070>"
      ]
     },
     "execution_count": 32,
     "metadata": {},
     "output_type": "execute_result"
    },
    {
     "data": {
      "image/png": "[encoded data removed]",
      "text/plain": [
       "<Figure size 432x288 with 1 Axes>"
      ]
     },
     "metadata": {
      "needs_background": "light"
     },
     "output_type": "display_data"
    }
   ],
   "source": [
    "# Veamos la relación entre:\n",
    "sns.boxplot(x=\"fruit_name\", y=\"mass\", data=fruits)"
   ]
  },
  {
   "cell_type": "markdown",
   "id": "3ae25ba4",
   "metadata": {},
   "source": [
    "Se Observa que la distribucion de la masa entre las diferentes clases de frutas tienen una superposición significativa a diferencia de la mandarina por lo que la masa no sería un buen predictor para el nombre de la fruta. "
   ]
  },
  {
   "cell_type": "code",
   "execution_count": 33,
   "id": "11781220",
   "metadata": {},
   "outputs": [
    {
     "data": {
      "text/plain": [
       "<matplotlib.axes._subplots.AxesSubplot at 0xe593718>"
      ]
     },
     "execution_count": 33,
     "metadata": {},
     "output_type": "execute_result"
    },
    {
     "data": {
      "image/png": "[encoded data removed]",
      "text/plain": [
       "<Figure size 432x288 with 1 Axes>"
      ]
     },
     "metadata": {
      "needs_background": "light"
     },
     "output_type": "display_data"
    }
   ],
   "source": [
    "sns.boxplot(x=\"fruit_name\", y=\"height\", data=fruits)"
   ]
  },
  {
   "cell_type": "markdown",
   "id": "a99895b2",
   "metadata": {},
   "source": [
    "Se observa que la distribución del alto entre las clses de frutas, es un poco distinta como para tomar el alto de la fruta como un posible predictor del nombre de la fruta."
   ]
  },
  {
   "cell_type": "markdown",
   "id": "1aacd0c3",
   "metadata": {},
   "source": [
    "## Análisis Estadístico Descriptivo "
   ]
  },
  {
   "cell_type": "markdown",
   "id": "d8969e2d",
   "metadata": {},
   "source": [
    "Describe automáticamente calcula estadísticas básicas para todas las variables continuas"
   ]
  },
  {
   "cell_type": "markdown",
   "id": "03f8beb0",
   "metadata": {},
   "source": [
    "- Muestra el recuento de esa variable, la media, la desviación estándar (std), \n",
    "el valor mínimo,el IQR (rango intercuartil: 25%, 50% y 75%), el valor máximo\n",
    "fruits.describe()"
   ]
  },
  {
   "cell_type": "code",
   "execution_count": 34,
   "id": "f8bcd74e",
   "metadata": {},
   "outputs": [
    {
     "data": {
      "text/html": [
       "<div>\n",
       "<style scoped>\n",
       "    .dataframe tbody tr th:only-of-type {\n",
       "        vertical-align: middle;\n",
       "    }\n",
       "\n",
       "    .dataframe tbody tr th {\n",
       "        vertical-align: top;\n",
       "    }\n",
       "\n",
       "    .dataframe thead th {\n",
       "        text-align: right;\n",
       "    }\n",
       "</style>\n",
       "<table border=\"1\" class=\"dataframe\">\n",
       "  <thead>\n",
       "    <tr style=\"text-align: right;\">\n",
       "      <th></th>\n",
       "      <th>fruit_label</th>\n",
       "      <th>mass</th>\n",
       "      <th>width</th>\n",
       "      <th>height</th>\n",
       "      <th>color_score</th>\n",
       "    </tr>\n",
       "  </thead>\n",
       "  <tbody>\n",
       "    <tr>\n",
       "      <th>count</th>\n",
       "      <td>340.000000</td>\n",
       "      <td>340.000000</td>\n",
       "      <td>340.000000</td>\n",
       "      <td>340.000000</td>\n",
       "      <td>340.000000</td>\n",
       "    </tr>\n",
       "    <tr>\n",
       "      <th>mean</th>\n",
       "      <td>2.470588</td>\n",
       "      <td>152.235294</td>\n",
       "      <td>6.950000</td>\n",
       "      <td>7.251471</td>\n",
       "      <td>0.767059</td>\n",
       "    </tr>\n",
       "    <tr>\n",
       "      <th>std</th>\n",
       "      <td>1.132395</td>\n",
       "      <td>58.055542</td>\n",
       "      <td>0.855918</td>\n",
       "      <td>1.696647</td>\n",
       "      <td>0.072096</td>\n",
       "    </tr>\n",
       "    <tr>\n",
       "      <th>min</th>\n",
       "      <td>1.000000</td>\n",
       "      <td>76.000000</td>\n",
       "      <td>5.800000</td>\n",
       "      <td>4.000000</td>\n",
       "      <td>0.550000</td>\n",
       "    </tr>\n",
       "    <tr>\n",
       "      <th>25%</th>\n",
       "      <td>1.000000</td>\n",
       "      <td>116.000000</td>\n",
       "      <td>6.075000</td>\n",
       "      <td>7.075000</td>\n",
       "      <td>0.720000</td>\n",
       "    </tr>\n",
       "    <tr>\n",
       "      <th>50%</th>\n",
       "      <td>3.000000</td>\n",
       "      <td>155.000000</td>\n",
       "      <td>7.100000</td>\n",
       "      <td>7.500000</td>\n",
       "      <td>0.770000</td>\n",
       "    </tr>\n",
       "    <tr>\n",
       "      <th>75%</th>\n",
       "      <td>3.000000</td>\n",
       "      <td>172.500000</td>\n",
       "      <td>7.425000</td>\n",
       "      <td>8.100000</td>\n",
       "      <td>0.810000</td>\n",
       "    </tr>\n",
       "    <tr>\n",
       "      <th>max</th>\n",
       "      <td>4.000000</td>\n",
       "      <td>362.000000</td>\n",
       "      <td>9.600000</td>\n",
       "      <td>10.500000</td>\n",
       "      <td>0.930000</td>\n",
       "    </tr>\n",
       "  </tbody>\n",
       "</table>\n",
       "</div>"
      ],
      "text/plain": [
       "       fruit_label        mass       width      height  color_score\n",
       "count   340.000000  340.000000  340.000000  340.000000   340.000000\n",
       "mean      2.470588  152.235294    6.950000    7.251471     0.767059\n",
       "std       1.132395   58.055542    0.855918    1.696647     0.072096\n",
       "min       1.000000   76.000000    5.800000    4.000000     0.550000\n",
       "25%       1.000000  116.000000    6.075000    7.075000     0.720000\n",
       "50%       3.000000  155.000000    7.100000    7.500000     0.770000\n",
       "75%       3.000000  172.500000    7.425000    8.100000     0.810000\n",
       "max       4.000000  362.000000    9.600000   10.500000     0.930000"
      ]
     },
     "execution_count": 34,
     "metadata": {},
     "output_type": "execute_result"
    }
   ],
   "source": [
    "fruits.describe()"
   ]
  },
  {
   "cell_type": "code",
   "execution_count": 35,
   "id": "63f86702",
   "metadata": {},
   "outputs": [
    {
     "data": {
      "text/html": [
       "<div>\n",
       "<style scoped>\n",
       "    .dataframe tbody tr th:only-of-type {\n",
       "        vertical-align: middle;\n",
       "    }\n",
       "\n",
       "    .dataframe tbody tr th {\n",
       "        vertical-align: top;\n",
       "    }\n",
       "\n",
       "    .dataframe thead th {\n",
       "        text-align: right;\n",
       "    }\n",
       "</style>\n",
       "<table border=\"1\" class=\"dataframe\">\n",
       "  <thead>\n",
       "    <tr style=\"text-align: right;\">\n",
       "      <th></th>\n",
       "      <th>fruit_name</th>\n",
       "      <th>fruit_subtype</th>\n",
       "    </tr>\n",
       "  </thead>\n",
       "  <tbody>\n",
       "    <tr>\n",
       "      <th>count</th>\n",
       "      <td>340</td>\n",
       "      <td>340</td>\n",
       "    </tr>\n",
       "    <tr>\n",
       "      <th>unique</th>\n",
       "      <td>4</td>\n",
       "      <td>10</td>\n",
       "    </tr>\n",
       "    <tr>\n",
       "      <th>top</th>\n",
       "      <td>orange</td>\n",
       "      <td>mandarin</td>\n",
       "    </tr>\n",
       "    <tr>\n",
       "      <th>freq</th>\n",
       "      <td>95</td>\n",
       "      <td>70</td>\n",
       "    </tr>\n",
       "  </tbody>\n",
       "</table>\n",
       "</div>"
      ],
      "text/plain": [
       "       fruit_name fruit_subtype\n",
       "count         340           340\n",
       "unique          4            10\n",
       "top        orange      mandarin\n",
       "freq           95            70"
      ]
     },
     "execution_count": 35,
     "metadata": {},
     "output_type": "execute_result"
    }
   ],
   "source": [
    "#Desscribe” en las variables de tipo ‘objeto\n",
    "fruits.describe(include=['object'])"
   ]
  },
  {
   "cell_type": "code",
   "execution_count": 36,
   "id": "d76e24d2",
   "metadata": {},
   "outputs": [
    {
     "data": {
      "text/plain": [
       "orange      95\n",
       "apple       95\n",
       "lemon       80\n",
       "mandarin    70\n",
       "Name: fruit_name, dtype: int64"
      ]
     },
     "execution_count": 36,
     "metadata": {},
     "output_type": "execute_result"
    }
   ],
   "source": [
    "# Contar Valores\n",
    "fruits['fruit_name'].value_counts()"
   ]
  },
  {
   "cell_type": "code",
   "execution_count": 37,
   "id": "0a859fe2",
   "metadata": {},
   "outputs": [
    {
     "data": {
      "text/plain": [
       "Index(['fruit_label', 'fruit_name', 'fruit_subtype', 'mass', 'width', 'height',\n",
       "       'color_score'],\n",
       "      dtype='object')"
      ]
     },
     "execution_count": 37,
     "metadata": {},
     "output_type": "execute_result"
    }
   ],
   "source": [
    "fruits.columns"
   ]
  },
  {
   "cell_type": "markdown",
   "id": "a03f1920",
   "metadata": {},
   "source": [
    "## 4. Calcular el volumen de las frutas en un conjunto de datos en Python:\n",
    "\n",
    "- si se conoce la masa de la fruta, su ancho y alto, y tienes una estimación de su densidad promedio, puedes utilizar la siguiente fórmula para obtener una aproximación de su volumen:\n",
    "\n",
    "V = m / (d * l * a)\n",
    "Donde m es la masa de la fruta, d es la densidad promedio de la fruta y l y a son el ancho y alto de la fruta, respectivamente."
   ]
  },
  {
   "cell_type": "code",
   "execution_count": 38,
   "id": "fca5b3cd",
   "metadata": {},
   "outputs": [],
   "source": [
    "#g/cm^3\n",
    "densidad_promedio = 0.8 "
   ]
  },
  {
   "cell_type": "code",
   "execution_count": 39,
   "id": "763032ab",
   "metadata": {},
   "outputs": [],
   "source": [
    "volumenes = fruits['mass']/(densidad_promedio * fruits['width'] * fruits['height'])"
   ]
  },
  {
   "cell_type": "code",
   "execution_count": 40,
   "id": "6cdc4124",
   "metadata": {},
   "outputs": [
    {
     "data": {
      "text/html": [
       "<div>\n",
       "<style scoped>\n",
       "    .dataframe tbody tr th:only-of-type {\n",
       "        vertical-align: middle;\n",
       "    }\n",
       "\n",
       "    .dataframe tbody tr th {\n",
       "        vertical-align: top;\n",
       "    }\n",
       "\n",
       "    .dataframe thead th {\n",
       "        text-align: right;\n",
       "    }\n",
       "</style>\n",
       "<table border=\"1\" class=\"dataframe\">\n",
       "  <thead>\n",
       "    <tr style=\"text-align: right;\">\n",
       "      <th></th>\n",
       "      <th>fruit_label</th>\n",
       "      <th>fruit_name</th>\n",
       "      <th>fruit_subtype</th>\n",
       "      <th>mass</th>\n",
       "      <th>width</th>\n",
       "      <th>height</th>\n",
       "      <th>color_score</th>\n",
       "      <th>volumen</th>\n",
       "    </tr>\n",
       "  </thead>\n",
       "  <tbody>\n",
       "    <tr>\n",
       "      <th>0</th>\n",
       "      <td>1</td>\n",
       "      <td>apple</td>\n",
       "      <td>granny_smith</td>\n",
       "      <td>192</td>\n",
       "      <td>8.4</td>\n",
       "      <td>7.3</td>\n",
       "      <td>0.55</td>\n",
       "      <td>3.913894</td>\n",
       "    </tr>\n",
       "    <tr>\n",
       "      <th>1</th>\n",
       "      <td>1</td>\n",
       "      <td>apple</td>\n",
       "      <td>granny_smith</td>\n",
       "      <td>180</td>\n",
       "      <td>8.0</td>\n",
       "      <td>6.8</td>\n",
       "      <td>0.59</td>\n",
       "      <td>4.136029</td>\n",
       "    </tr>\n",
       "    <tr>\n",
       "      <th>2</th>\n",
       "      <td>1</td>\n",
       "      <td>apple</td>\n",
       "      <td>granny_smith</td>\n",
       "      <td>176</td>\n",
       "      <td>7.4</td>\n",
       "      <td>7.2</td>\n",
       "      <td>0.60</td>\n",
       "      <td>4.129129</td>\n",
       "    </tr>\n",
       "    <tr>\n",
       "      <th>3</th>\n",
       "      <td>2</td>\n",
       "      <td>mandarin</td>\n",
       "      <td>mandarin</td>\n",
       "      <td>86</td>\n",
       "      <td>6.2</td>\n",
       "      <td>4.7</td>\n",
       "      <td>0.80</td>\n",
       "      <td>3.689087</td>\n",
       "    </tr>\n",
       "    <tr>\n",
       "      <th>4</th>\n",
       "      <td>2</td>\n",
       "      <td>mandarin</td>\n",
       "      <td>mandarin</td>\n",
       "      <td>86</td>\n",
       "      <td>6.2</td>\n",
       "      <td>4.7</td>\n",
       "      <td>0.80</td>\n",
       "      <td>3.689087</td>\n",
       "    </tr>\n",
       "    <tr>\n",
       "      <th>...</th>\n",
       "      <td>...</td>\n",
       "      <td>...</td>\n",
       "      <td>...</td>\n",
       "      <td>...</td>\n",
       "      <td>...</td>\n",
       "      <td>...</td>\n",
       "      <td>...</td>\n",
       "      <td>...</td>\n",
       "    </tr>\n",
       "    <tr>\n",
       "      <th>335</th>\n",
       "      <td>4</td>\n",
       "      <td>lemon</td>\n",
       "      <td>unknown</td>\n",
       "      <td>116</td>\n",
       "      <td>6.1</td>\n",
       "      <td>8.5</td>\n",
       "      <td>0.71</td>\n",
       "      <td>2.796528</td>\n",
       "    </tr>\n",
       "    <tr>\n",
       "      <th>336</th>\n",
       "      <td>4</td>\n",
       "      <td>lemon</td>\n",
       "      <td>unknown</td>\n",
       "      <td>116</td>\n",
       "      <td>6.3</td>\n",
       "      <td>7.7</td>\n",
       "      <td>0.72</td>\n",
       "      <td>2.989074</td>\n",
       "    </tr>\n",
       "    <tr>\n",
       "      <th>337</th>\n",
       "      <td>4</td>\n",
       "      <td>lemon</td>\n",
       "      <td>unknown</td>\n",
       "      <td>116</td>\n",
       "      <td>5.9</td>\n",
       "      <td>8.1</td>\n",
       "      <td>0.73</td>\n",
       "      <td>3.034108</td>\n",
       "    </tr>\n",
       "    <tr>\n",
       "      <th>338</th>\n",
       "      <td>4</td>\n",
       "      <td>lemon</td>\n",
       "      <td>unknown</td>\n",
       "      <td>152</td>\n",
       "      <td>6.5</td>\n",
       "      <td>8.5</td>\n",
       "      <td>0.72</td>\n",
       "      <td>3.438914</td>\n",
       "    </tr>\n",
       "    <tr>\n",
       "      <th>339</th>\n",
       "      <td>4</td>\n",
       "      <td>lemon</td>\n",
       "      <td>unknown</td>\n",
       "      <td>118</td>\n",
       "      <td>6.1</td>\n",
       "      <td>8.1</td>\n",
       "      <td>0.70</td>\n",
       "      <td>2.985226</td>\n",
       "    </tr>\n",
       "  </tbody>\n",
       "</table>\n",
       "<p>340 rows × 8 columns</p>\n",
       "</div>"
      ],
      "text/plain": [
       "     fruit_label fruit_name fruit_subtype  mass  width  height  color_score  \\\n",
       "0              1      apple  granny_smith   192    8.4     7.3         0.55   \n",
       "1              1      apple  granny_smith   180    8.0     6.8         0.59   \n",
       "2              1      apple  granny_smith   176    7.4     7.2         0.60   \n",
       "3              2   mandarin      mandarin    86    6.2     4.7         0.80   \n",
       "4              2   mandarin      mandarin    86    6.2     4.7         0.80   \n",
       "..           ...        ...           ...   ...    ...     ...          ...   \n",
       "335            4      lemon       unknown   116    6.1     8.5         0.71   \n",
       "336            4      lemon       unknown   116    6.3     7.7         0.72   \n",
       "337            4      lemon       unknown   116    5.9     8.1         0.73   \n",
       "338            4      lemon       unknown   152    6.5     8.5         0.72   \n",
       "339            4      lemon       unknown   118    6.1     8.1         0.70   \n",
       "\n",
       "      volumen  \n",
       "0    3.913894  \n",
       "1    4.136029  \n",
       "2    4.129129  \n",
       "3    3.689087  \n",
       "4    3.689087  \n",
       "..        ...  \n",
       "335  2.796528  \n",
       "336  2.989074  \n",
       "337  3.034108  \n",
       "338  3.438914  \n",
       "339  2.985226  \n",
       "\n",
       "[340 rows x 8 columns]"
      ]
     },
     "execution_count": 40,
     "metadata": {},
     "output_type": "execute_result"
    }
   ],
   "source": [
    "fruits['volumen'] = volumenes\n",
    "fruits"
   ]
  },
  {
   "cell_type": "markdown",
   "id": "aaea7262",
   "metadata": {},
   "source": [
    "## 5. Conceptos Basicos de Agrupamiento"
   ]
  },
  {
   "cell_type": "markdown",
   "id": "a50d7b5d",
   "metadata": {},
   "source": [
    "- El método “groupby” agrupa los datos por diferentes categorías. Los datos se agrupan en función de una o varias variables y el análisis se realiza en los grupos individuales.\n",
    "\n",
    "- Por ejemplo, agrupemos por la variable “fruit_name”. Sabemos que hay 4 clases de diferentes de subtipo de frutas."
   ]
  },
  {
   "cell_type": "code",
   "execution_count": 41,
   "id": "8d333a10",
   "metadata": {},
   "outputs": [
    {
     "data": {
      "text/plain": [
       "array(['apple', 'mandarin', 'orange', 'lemon'], dtype=object)"
      ]
     },
     "execution_count": 41,
     "metadata": {},
     "output_type": "execute_result"
    }
   ],
   "source": [
    "fruits['fruit_name'].unique()"
   ]
  },
  {
   "cell_type": "markdown",
   "id": "3b3db280",
   "metadata": {},
   "source": [
    "Si queremos saber, en promedio, el volumen de una fruta, podemos agrupar fruit name y luego promediarlas."
   ]
  },
  {
   "cell_type": "code",
   "execution_count": 42,
   "id": "c0098ffc",
   "metadata": {},
   "outputs": [],
   "source": [
    "fruits_group_one = fruits[['fruit_name','mass','width','height','volumen']]"
   ]
  },
  {
   "cell_type": "markdown",
   "id": "df811dbd",
   "metadata": {},
   "source": [
    "Luego podemos calcular la masa y el ancho para cada una de las diferentes clases de frutas."
   ]
  },
  {
   "cell_type": "code",
   "execution_count": 43,
   "id": "ec21b304",
   "metadata": {},
   "outputs": [
    {
     "data": {
      "text/html": [
       "<div>\n",
       "<style scoped>\n",
       "    .dataframe tbody tr th:only-of-type {\n",
       "        vertical-align: middle;\n",
       "    }\n",
       "\n",
       "    .dataframe tbody tr th {\n",
       "        vertical-align: top;\n",
       "    }\n",
       "\n",
       "    .dataframe thead th {\n",
       "        text-align: right;\n",
       "    }\n",
       "</style>\n",
       "<table border=\"1\" class=\"dataframe\">\n",
       "  <thead>\n",
       "    <tr style=\"text-align: right;\">\n",
       "      <th></th>\n",
       "      <th>fruit_name</th>\n",
       "      <th>mass</th>\n",
       "      <th>width</th>\n",
       "      <th>height</th>\n",
       "      <th>volumen</th>\n",
       "    </tr>\n",
       "  </thead>\n",
       "  <tbody>\n",
       "    <tr>\n",
       "      <th>0</th>\n",
       "      <td>apple</td>\n",
       "      <td>165.052632</td>\n",
       "      <td>7.457895</td>\n",
       "      <td>7.342105</td>\n",
       "      <td>3.773900</td>\n",
       "    </tr>\n",
       "    <tr>\n",
       "      <th>1</th>\n",
       "      <td>lemon</td>\n",
       "      <td>150.000000</td>\n",
       "      <td>6.512500</td>\n",
       "      <td>8.856250</td>\n",
       "      <td>3.201097</td>\n",
       "    </tr>\n",
       "    <tr>\n",
       "      <th>2</th>\n",
       "      <td>mandarin</td>\n",
       "      <td>81.000000</td>\n",
       "      <td>5.935714</td>\n",
       "      <td>4.364286</td>\n",
       "      <td>3.916439</td>\n",
       "    </tr>\n",
       "    <tr>\n",
       "      <th>3</th>\n",
       "      <td>orange</td>\n",
       "      <td>193.789474</td>\n",
       "      <td>7.557895</td>\n",
       "      <td>7.936842</td>\n",
       "      <td>3.907930</td>\n",
       "    </tr>\n",
       "  </tbody>\n",
       "</table>\n",
       "</div>"
      ],
      "text/plain": [
       "  fruit_name        mass     width    height   volumen\n",
       "0      apple  165.052632  7.457895  7.342105  3.773900\n",
       "1      lemon  150.000000  6.512500  8.856250  3.201097\n",
       "2   mandarin   81.000000  5.935714  4.364286  3.916439\n",
       "3     orange  193.789474  7.557895  7.936842  3.907930"
      ]
     },
     "execution_count": 43,
     "metadata": {},
     "output_type": "execute_result"
    }
   ],
   "source": [
    "# resultados del agrupamiento\n",
    "fruits_group_one = fruits_group_one.groupby(['fruit_name'],as_index=False).mean()\n",
    "fruits_group_one"
   ]
  },
  {
   "cell_type": "code",
   "execution_count": null,
   "id": "69f7da2f",
   "metadata": {},
   "outputs": [],
   "source": []
  },
  {
   "cell_type": "markdown",
   "id": "2cf8ef7c",
   "metadata": {},
   "source": [
    "## 6. Correlación y causalidad "
   ]
  },
  {
   "cell_type": "markdown",
   "id": "cc95cb35",
   "metadata": {},
   "source": [
    "<p><b>Correlación:</b> una medida del grado de interdependencia entre variables.</p>\n",
    "\n",
    "<p><b>Causalidad:</b> la relación entre causa y efecto entre dos variables.</p>\n",
    "\n",
    "<p>Es importante saber la diferencia entre estos dos y que la correlación no implica causalidad. Determinar la correlación es mucho más simple que la causalidad determinante ya que la causalidad puede requerir experimentación independiente.</p>"
   ]
  },
  {
   "cell_type": "markdown",
   "id": "667e879d",
   "metadata": {},
   "source": [
    "<p3>Correlación de Pearson</p3>\n",
    "\n",
    "<p>La correlación de Pearson mide la dependencia lineal entre dos variables X e Y.</p>\n",
    "<p>El coeficiente resultante es un valor entre -1 y 1 inclusive, donde:</p>\n",
    "<ul>\n",
    "    <li><b>1</b>: correlación lineal positiva total.</li>\n",
    "    <li><b>0</b>: Sin correlación lineal, las dos variables probablemente no se afectan entre sí.</li>\n",
    "    <li><b>-1</b>: correlación lineal negativa total.</li>\n",
    "</ul>"
   ]
  },
  {
   "cell_type": "markdown",
   "id": "9e9ba316",
   "metadata": {},
   "source": [
    "Correlación de Pearson es el método predeterminado de la función “corr“. Como antes, podemos calcular la correlación de Pearson de las variables ‘int64’ o ‘float64’."
   ]
  },
  {
   "cell_type": "code",
   "execution_count": 44,
   "id": "59dca276",
   "metadata": {},
   "outputs": [
    {
     "data": {
      "text/html": [
       "<div>\n",
       "<style scoped>\n",
       "    .dataframe tbody tr th:only-of-type {\n",
       "        vertical-align: middle;\n",
       "    }\n",
       "\n",
       "    .dataframe tbody tr th {\n",
       "        vertical-align: top;\n",
       "    }\n",
       "\n",
       "    .dataframe thead th {\n",
       "        text-align: right;\n",
       "    }\n",
       "</style>\n",
       "<table border=\"1\" class=\"dataframe\">\n",
       "  <thead>\n",
       "    <tr style=\"text-align: right;\">\n",
       "      <th></th>\n",
       "      <th>fruit_label</th>\n",
       "      <th>mass</th>\n",
       "      <th>width</th>\n",
       "      <th>height</th>\n",
       "      <th>color_score</th>\n",
       "      <th>volumen</th>\n",
       "    </tr>\n",
       "  </thead>\n",
       "  <tbody>\n",
       "    <tr>\n",
       "      <th>fruit_label</th>\n",
       "      <td>1.000000</td>\n",
       "      <td>0.106448</td>\n",
       "      <td>-0.184130</td>\n",
       "      <td>0.480975</td>\n",
       "      <td>-0.326251</td>\n",
       "      <td>-0.381571</td>\n",
       "    </tr>\n",
       "    <tr>\n",
       "      <th>mass</th>\n",
       "      <td>0.106448</td>\n",
       "      <td>1.000000</td>\n",
       "      <td>0.904057</td>\n",
       "      <td>0.718894</td>\n",
       "      <td>-0.140929</td>\n",
       "      <td>0.472317</td>\n",
       "    </tr>\n",
       "    <tr>\n",
       "      <th>width</th>\n",
       "      <td>-0.184130</td>\n",
       "      <td>0.904057</td>\n",
       "      <td>1.000000</td>\n",
       "      <td>0.573896</td>\n",
       "      <td>-0.135044</td>\n",
       "      <td>0.435531</td>\n",
       "    </tr>\n",
       "    <tr>\n",
       "      <th>height</th>\n",
       "      <td>0.480975</td>\n",
       "      <td>0.718894</td>\n",
       "      <td>0.573896</td>\n",
       "      <td>1.000000</td>\n",
       "      <td>-0.281394</td>\n",
       "      <td>-0.236414</td>\n",
       "    </tr>\n",
       "    <tr>\n",
       "      <th>color_score</th>\n",
       "      <td>-0.326251</td>\n",
       "      <td>-0.140929</td>\n",
       "      <td>-0.135044</td>\n",
       "      <td>-0.281394</td>\n",
       "      <td>1.000000</td>\n",
       "      <td>0.213536</td>\n",
       "    </tr>\n",
       "    <tr>\n",
       "      <th>volumen</th>\n",
       "      <td>-0.381571</td>\n",
       "      <td>0.472317</td>\n",
       "      <td>0.435531</td>\n",
       "      <td>-0.236414</td>\n",
       "      <td>0.213536</td>\n",
       "      <td>1.000000</td>\n",
       "    </tr>\n",
       "  </tbody>\n",
       "</table>\n",
       "</div>"
      ],
      "text/plain": [
       "             fruit_label      mass     width    height  color_score   volumen\n",
       "fruit_label     1.000000  0.106448 -0.184130  0.480975    -0.326251 -0.381571\n",
       "mass            0.106448  1.000000  0.904057  0.718894    -0.140929  0.472317\n",
       "width          -0.184130  0.904057  1.000000  0.573896    -0.135044  0.435531\n",
       "height          0.480975  0.718894  0.573896  1.000000    -0.281394 -0.236414\n",
       "color_score    -0.326251 -0.140929 -0.135044 -0.281394     1.000000  0.213536\n",
       "volumen        -0.381571  0.472317  0.435531 -0.236414     0.213536  1.000000"
      ]
     },
     "execution_count": 44,
     "metadata": {},
     "output_type": "execute_result"
    }
   ],
   "source": [
    "fruits.corr()"
   ]
  },
  {
   "cell_type": "markdown",
   "id": "44c7c514",
   "metadata": {},
   "source": [
    "### A veces nos gustaría saber lo significativo de la estimación de correlación. Valor p:"
   ]
  },
  {
   "cell_type": "markdown",
   "id": "e88fd880",
   "metadata": {},
   "source": [
    "<b>Valor p</b>:\n",
    "\n",
    "<p>¿Qué es este valor P? El valor P es el valor de probabilidad de que la correlación entre estas dos variables sea estadísticamente significativa. Normalmente, elegimos un nivel de significancia de 0.05, lo que significa que estamos 95% seguros de que la correlación entre las variables es significativa.</p>\n",
    "\n",
    "Por convención, cuando el\n",
    "\n",
    "<ul>\n",
    "    <li>El valor p es $<$ 0.001 decimos que hay pruebas sólidas de que la correlación es significativa.</li>\n",
    "    <li>el valor p es $<$0.05: existe evidencia moderada de que la correlación es significativa.\n",
    "</li>\n",
    "    <li>el valor p es $<$0.1: existe evidencia débil de que la correlación es significativa.\n",
    "</li>\n",
    "    <li>el valor p es $>$ 0.1: no hay evidencia de que la correlación sea significativa.\n",
    "</li>\n",
    "</ul>"
   ]
  },
  {
   "cell_type": "markdown",
   "id": "bf7c5978",
   "metadata": {},
   "source": [
    "**Podemos obtener esta información usando el módulo “stats” en la biblioteca “scipy”.**"
   ]
  },
  {
   "cell_type": "code",
   "execution_count": 45,
   "id": "d701b718",
   "metadata": {},
   "outputs": [],
   "source": [
    "from scipy import stats"
   ]
  },
  {
   "cell_type": "markdown",
   "id": "6830070f",
   "metadata": {},
   "source": [
    "## Calculemos el coeficiente de correlación de Pearson y el valor P de ‘mass \t’ y ‘width’."
   ]
  },
  {
   "cell_type": "code",
   "execution_count": 46,
   "id": "c080a539",
   "metadata": {},
   "outputs": [
    {
     "name": "stdout",
     "output_type": "stream",
     "text": [
      "The Pearson Correlation Coefficient is 0.9040569142361552  with a P-value of P = 8.070481478682678e-127\n"
     ]
    }
   ],
   "source": [
    "pearson_coef, p_value = stats.pearsonr(fruits['mass'], fruits['width'])\n",
    "print(\"The Pearson Correlation Coefficient is\", pearson_coef, \" with a P-value of P =\", p_value)  "
   ]
  },
  {
   "cell_type": "markdown",
   "id": "abd6f40c",
   "metadata": {},
   "source": [
    "Expl. El valor 8.070481478684054e-127 es un número en notación científica y se puede expresar como: 0.0000000000000000000000000000000000000000000000000000000000000000000000000000000000000000000000008070481478684054\n",
    "Para conluir, el número es extremadamente pequeño, cercano a cero, y se puede representar con 127 ceros después del punto decimal y luego un 8 en la posición 128. por tanto el valor p es < 0.001, la correlación entre la masa y el ancho es estadísticamente significativa."
   ]
  },
  {
   "cell_type": "code",
   "execution_count": null,
   "id": "9c3b4376",
   "metadata": {},
   "outputs": [],
   "source": []
  }
 ],
 "metadata": {
  "kernelspec": {
   "display_name": "Python 3 (ipykernel)",
   "language": "python",
   "name": "python3"
  },
  "language_info": {
   "codemirror_mode": {
    "name": "ipython",
    "version": 3
   },
   "file_extension": ".py",
   "mimetype": "text/x-python",
   "name": "python",
   "nbconvert_exporter": "python",
   "pygments_lexer": "ipython3",
   "version": "3.11.7"
  }
 },
 "nbformat": 4,
 "nbformat_minor": 5
}
