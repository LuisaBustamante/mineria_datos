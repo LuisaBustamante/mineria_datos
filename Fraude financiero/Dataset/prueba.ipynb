{
 "cells": [
  {
   "cell_type": "code",
   "execution_count": 1,
   "metadata": {},
   "outputs": [
    {
     "name": "stdout",
     "output_type": "stream",
     "text": [
      "Collecting sdv\n",
      "  Using cached sdv-1.5.0-py2.py3-none-any.whl (130 kB)\n",
      "Collecting pandas>=1.1.3; python_version < \"3.10\"\n",
      "  Using cached pandas-2.0.3-cp38-cp38-win32.whl (9.6 MB)\n",
      "Collecting rdt<2,>=1.7.0\n",
      "  Using cached rdt-1.7.0-py2.py3-none-any.whl (70 kB)\n",
      "Collecting Faker<15,>=10\n",
      "  Using cached Faker-14.2.1-py3-none-any.whl (1.6 MB)\n",
      "Collecting sdmetrics<0.12,>=0.11.0\n",
      "  Using cached sdmetrics-0.11.1-py2.py3-none-any.whl (160 kB)\n",
      "Collecting copulas<0.10,>=0.9.0\n",
      "  Using cached copulas-0.9.2-py2.py3-none-any.whl (54 kB)\n",
      "Collecting cloudpickle<3.0,>=2.1.0\n",
      "  Using cached cloudpickle-2.2.1-py3-none-any.whl (25 kB)\n",
      "Collecting botocore<2,>=1.18\n",
      "  Using cached botocore-1.31.68-py3-none-any.whl (11.3 MB)\n",
      "Collecting numpy<2,>=1.20.0; python_version < \"3.10\"\n",
      "  Using cached numpy-1.24.4-cp38-cp38-win32.whl (12.5 MB)\n",
      "Collecting ctgan<0.8,>=0.7.4\n"
     ]
    },
    {
     "name": "stderr",
     "output_type": "stream",
     "text": [
      "    ERROR: Command errored out with exit status 1:\n",
      "     command: 'C:\\Users\\x1920\\anaconda3\\python.exe' 'C:\\Users\\x1920\\anaconda3\\lib\\site-packages\\pip\\_vendor\\pep517\\_in_process.py' prepare_metadata_for_build_wheel 'C:\\Users\\x1920\\AppData\\Local\\Temp\\tmp4yp4n2z8'\n",
      "         cwd: C:\\Users\\x1920\\AppData\\Local\\Temp\\pip-install-07dh4s8z\\scipy\n",
      "    Complete output (21 lines):\n",
      "    + meson setup --prefix=C:\\Users\\x1920\\anaconda3 C:\\Users\\x1920\\AppData\\Local\\Temp\\pip-install-07dh4s8z\\scipy C:\\Users\\x1920\\AppData\\Local\\Temp\\pip-install-07dh4s8z\\scipy\\.mesonpy-605ixj19\\build --native-file=C:\\Users\\x1920\\AppData\\Local\\Temp\\pip-install-07dh4s8z\\scipy\\.mesonpy-native-file.ini -Ddebug=false -Doptimization=2\n",
      "    The Meson build system\n",
      "    Version: 1.2.3\n",
      "    Source dir: C:\\Users\\x1920\\AppData\\Local\\Temp\\pip-install-07dh4s8z\\scipy\n",
      "    Build dir: C:\\Users\\x1920\\AppData\\Local\\Temp\\pip-install-07dh4s8z\\scipy\\.mesonpy-605ixj19\\build\n",
      "    Build type: native build\n",
      "    Project name: SciPy\n",
      "    Project version: 1.10.1\n",
      "    WARNING: Failed to activate VS environment: Could not find C:\\Program Files (x86)\\Microsoft Visual Studio\\Installer\\vswhere.exe\n",
      "    \n",
      "    ..\\..\\meson.build:1:0: ERROR: Unknown compiler(s): [['icl'], ['cl'], ['cc'], ['gcc'], ['clang'], ['clang-cl'], ['pgcc']]\n",
      "    The following exception(s) were encountered:\n",
      "    Running `icl \"\"` gave \"[WinError 2] El sistema no puede encontrar el archivo especificado\"\n",
      "    Running `cl /?` gave \"[WinError 2] El sistema no puede encontrar el archivo especificado\"\n",
      "    Running `cc --version` gave \"[WinError 2] El sistema no puede encontrar el archivo especificado\"\n",
      "    Running `gcc --version` gave \"[WinError 2] El sistema no puede encontrar el archivo especificado\"\n",
      "    Running `clang --version` gave \"[WinError 2] El sistema no puede encontrar el archivo especificado\"\n",
      "    Running `clang-cl /?` gave \"[WinError 2] El sistema no puede encontrar el archivo especificado\"\n",
      "    Running `pgcc --version` gave \"[WinError 2] El sistema no puede encontrar el archivo especificado\"\n",
      "    \n",
      "    A full log can be found at C:\\Users\\x1920\\AppData\\Local\\Temp\\pip-install-07dh4s8z\\scipy\\.mesonpy-605ixj19\\build\\meson-logs\\meson-log.txt\n",
      "    ----------------------------------------\n",
      "ERROR: Command errored out with exit status 1: 'C:\\Users\\x1920\\anaconda3\\python.exe' 'C:\\Users\\x1920\\anaconda3\\lib\\site-packages\\pip\\_vendor\\pep517\\_in_process.py' prepare_metadata_for_build_wheel 'C:\\Users\\x1920\\AppData\\Local\\Temp\\tmp4yp4n2z8' Check the logs for full command output.\n"
     ]
    },
    {
     "name": "stdout",
     "output_type": "stream",
     "text": [
      "  Using cached ctgan-0.7.5-py2.py3-none-any.whl (27 kB)\n",
      "Requirement already satisfied: tqdm<5,>=4.15 in c:\\users\\x1920\\anaconda3\\lib\\site-packages (from sdv) (4.47.0)\n",
      "Collecting graphviz<1,>=0.13.2\n",
      "  Using cached graphviz-0.20.1-py3-none-any.whl (47 kB)\n",
      "Collecting boto3<2,>=1.15.0\n",
      "  Using cached boto3-1.28.68-py3-none-any.whl (135 kB)\n",
      "Collecting deepecho<0.5,>=0.4.2\n",
      "  Using cached deepecho-0.4.2-py2.py3-none-any.whl (29 kB)\n",
      "Collecting python-dateutil>=2.8.2\n",
      "  Using cached python_dateutil-2.8.2-py2.py3-none-any.whl (247 kB)\n",
      "Requirement already satisfied: pytz>=2020.1 in c:\\users\\x1920\\anaconda3\\lib\\site-packages (from pandas>=1.1.3; python_version < \"3.10\"->sdv) (2020.1)\n",
      "Collecting tzdata>=2022.1\n",
      "  Using cached tzdata-2023.3-py2.py3-none-any.whl (341 kB)\n",
      "Collecting scipy<2,>=1.5.4; python_version < \"3.10\"\n",
      "  Using cached scipy-1.10.1.tar.gz (42.4 MB)\n",
      "  Installing build dependencies: started\n",
      "  Installing build dependencies: still running...\n",
      "  Installing build dependencies: finished with status 'done'\n",
      "  Getting requirements to build wheel: started\n",
      "  Getting requirements to build wheel: finished with status 'done'\n",
      "  Installing backend dependencies: started\n",
      "  Installing backend dependencies: finished with status 'done'\n",
      "    Preparing wheel metadata: started\n",
      "    Preparing wheel metadata: finished with status 'error'\n"
     ]
    }
   ],
   "source": [
    "!pip install sdv"
   ]
  },
  {
   "cell_type": "code",
   "execution_count": 3,
   "metadata": {
    "scrolled": true
   },
   "outputs": [
    {
     "ename": "ModuleNotFoundError",
     "evalue": "No module named 'sdv'",
     "output_type": "error",
     "traceback": [
      "\u001b[1;31m---------------------------------------------------------------------------\u001b[0m",
      "\u001b[1;31mModuleNotFoundError\u001b[0m                       Traceback (most recent call last)",
      "\u001b[1;32m<ipython-input-3-0ec3b8b78bbb>\u001b[0m in \u001b[0;36m<module>\u001b[1;34m\u001b[0m\n\u001b[1;32m----> 1\u001b[1;33m \u001b[1;32mfrom\u001b[0m \u001b[0msdv\u001b[0m\u001b[1;33m.\u001b[0m\u001b[0mdatasets\u001b[0m\u001b[1;33m.\u001b[0m\u001b[0mlocal\u001b[0m \u001b[1;32mimport\u001b[0m \u001b[0mload_csvs\u001b[0m\u001b[1;33m\u001b[0m\u001b[1;33m\u001b[0m\u001b[0m\n\u001b[0m\u001b[0;32m      2\u001b[0m \u001b[1;33m\u001b[0m\u001b[0m\n\u001b[0;32m      3\u001b[0m \u001b[1;31m# assume that my_folder contains 1 CSV file named 'guests.csv'\u001b[0m\u001b[1;33m\u001b[0m\u001b[1;33m\u001b[0m\u001b[1;33m\u001b[0m\u001b[0m\n\u001b[0;32m      4\u001b[0m \u001b[0mdatasets\u001b[0m \u001b[1;33m=\u001b[0m \u001b[0mload_csvs\u001b[0m\u001b[1;33m(\u001b[0m\u001b[0mfolder_name\u001b[0m\u001b[1;33m=\u001b[0m\u001b[1;34m'Dataset/'\u001b[0m\u001b[1;33m)\u001b[0m\u001b[1;33m\u001b[0m\u001b[1;33m\u001b[0m\u001b[0m\n\u001b[0;32m      5\u001b[0m \u001b[1;33m\u001b[0m\u001b[0m\n",
      "\u001b[1;31mModuleNotFoundError\u001b[0m: No module named 'sdv'"
     ]
    }
   ],
   "source": [
    "from sdv.datasets.local import load_csvs\n",
    "\n",
    "# assume that my_folder contains 1 CSV file named 'guests.csv'\n",
    "datasets = load_csvs(folder_name='Dataset/')\n",
    "\n",
    "# the data is available under the file name\n",
    "fraud_table = datasets['data_FraudDetection_JAR2020']"
   ]
  },
  {
   "cell_type": "code",
   "execution_count": 7,
   "metadata": {},
   "outputs": [
    {
     "ename": "ModuleNotFoundError",
     "evalue": "No module named 'sdv'",
     "output_type": "error",
     "traceback": [
      "\u001b[1;31m---------------------------------------------------------------------------\u001b[0m",
      "\u001b[1;31mModuleNotFoundError\u001b[0m                       Traceback (most recent call last)",
      "\u001b[1;32m<ipython-input-7-ecee407e84c2>\u001b[0m in \u001b[0;36m<module>\u001b[1;34m\u001b[0m\n\u001b[1;32m----> 1\u001b[1;33m \u001b[1;32mfrom\u001b[0m \u001b[0msdv\u001b[0m\u001b[1;33m.\u001b[0m\u001b[0mmetadata\u001b[0m \u001b[1;32mimport\u001b[0m \u001b[0mSingleTableMetadata\u001b[0m\u001b[1;33m\u001b[0m\u001b[1;33m\u001b[0m\u001b[0m\n\u001b[0m\u001b[0;32m      2\u001b[0m \u001b[1;33m\u001b[0m\u001b[0m\n\u001b[0;32m      3\u001b[0m \u001b[0mmetadata\u001b[0m \u001b[1;33m=\u001b[0m \u001b[0mSingleTableMetadata\u001b[0m\u001b[1;33m(\u001b[0m\u001b[1;33m)\u001b[0m\u001b[1;33m\u001b[0m\u001b[1;33m\u001b[0m\u001b[0m\n",
      "\u001b[1;31mModuleNotFoundError\u001b[0m: No module named 'sdv'"
     ]
    }
   ],
   "source": [
    "from sdv.metadata import SingleTableMetadata\n",
    "\n",
    "metadata = SingleTableMetadata()"
   ]
  },
  {
   "cell_type": "code",
   "execution_count": 6,
   "metadata": {},
   "outputs": [
    {
     "ename": "NameError",
     "evalue": "name 'metadata' is not defined",
     "output_type": "error",
     "traceback": [
      "\u001b[1;31m---------------------------------------------------------------------------\u001b[0m",
      "\u001b[1;31mNameError\u001b[0m                                 Traceback (most recent call last)",
      "\u001b[1;32m<ipython-input-6-d510f8474320>\u001b[0m in \u001b[0;36m<module>\u001b[1;34m\u001b[0m\n\u001b[1;32m----> 1\u001b[1;33m \u001b[0mmetadata\u001b[0m\u001b[1;33m.\u001b[0m\u001b[0mdetect_from_csv\u001b[0m\u001b[1;33m(\u001b[0m\u001b[0mfilepath\u001b[0m\u001b[1;33m=\u001b[0m\u001b[1;34m'Dataset/data_FraudDetection_JAR2020.csv'\u001b[0m\u001b[1;33m)\u001b[0m\u001b[1;33m\u001b[0m\u001b[1;33m\u001b[0m\u001b[0m\n\u001b[0m",
      "\u001b[1;31mNameError\u001b[0m: name 'metadata' is not defined"
     ]
    }
   ],
   "source": [
    "metadata.detect_from_csv(filepath='Dataset/data_FraudDetection_JAR2020.csv')"
   ]
  },
  {
   "cell_type": "code",
   "execution_count": 8,
   "metadata": {},
   "outputs": [
    {
     "ename": "ModuleNotFoundError",
     "evalue": "No module named 'sdv'",
     "output_type": "error",
     "traceback": [
      "\u001b[1;31m---------------------------------------------------------------------------\u001b[0m",
      "\u001b[1;31mModuleNotFoundError\u001b[0m                       Traceback (most recent call last)",
      "\u001b[1;32m<ipython-input-8-1158db6384c4>\u001b[0m in \u001b[0;36m<module>\u001b[1;34m\u001b[0m\n\u001b[1;32m----> 1\u001b[1;33m \u001b[1;32mimport\u001b[0m \u001b[0msdv\u001b[0m\u001b[1;33m\u001b[0m\u001b[1;33m\u001b[0m\u001b[0m\n\u001b[0m\u001b[0;32m      2\u001b[0m \u001b[1;33m\u001b[0m\u001b[0m\n\u001b[0;32m      3\u001b[0m \u001b[1;31m# Importar la biblioteca sdv desde el entorno de Python global\u001b[0m\u001b[1;33m\u001b[0m\u001b[1;33m\u001b[0m\u001b[1;33m\u001b[0m\u001b[0m\n\u001b[0;32m      4\u001b[0m \u001b[1;31m# import sdv\u001b[0m\u001b[1;33m\u001b[0m\u001b[1;33m\u001b[0m\u001b[1;33m\u001b[0m\u001b[0m\n\u001b[0;32m      5\u001b[0m \u001b[1;33m\u001b[0m\u001b[0m\n",
      "\u001b[1;31mModuleNotFoundError\u001b[0m: No module named 'sdv'"
     ]
    }
   ],
   "source": [
    "import sdv\n",
    "\n",
    "# Importar la biblioteca sdv desde el entorno de Python global\n",
    "# import sdv\n",
    "\n",
    "# Leer el conjunto de datos original\n",
    "data = pd.read_csv(\"data_FraudDetection_JAR2020.csv\")\n",
    "\n",
    "# Generar un conjunto de datos sintético\n",
    "generator = SVDDataGenerator(data)\n",
    "X_synthetic = generator.generate_synthetic_data(n_samples=100, noise=0.1)\n",
    "\n",
    "# Guardar el conjunto de datos sintético\n",
    "X_synthetic.to_csv(\"data_sintético.csv\")\n"
   ]
  },
  {
   "cell_type": "code",
   "execution_count": null,
   "metadata": {},
   "outputs": [],
   "source": []
  }
 ],
 "metadata": {
  "kernelspec": {
   "display_name": "Python 3",
   "language": "python",
   "name": "python3"
  },
  "language_info": {
   "codemirror_mode": {
    "name": "ipython",
    "version": 3
   },
   "file_extension": ".py",
   "mimetype": "text/x-python",
   "name": "python",
   "nbconvert_exporter": "python",
   "pygments_lexer": "ipython3",
   "version": "3.8.3"
  }
 },
 "nbformat": 4,
 "nbformat_minor": 4
}
